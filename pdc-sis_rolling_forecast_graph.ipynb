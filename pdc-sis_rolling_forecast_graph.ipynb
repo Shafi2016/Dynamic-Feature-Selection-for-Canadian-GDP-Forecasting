{
 "cells": [
  {
   "cell_type": "code",
   "execution_count": 44,
   "metadata": {},
   "outputs": [],
   "source": [
    "import pandas as pd\n",
    "import matplotlib.pyplot as plt\n",
    "import os\n",
    "\n",
    "# # Define paths\n",
    "# output_dir_non_winsor = './OoS_metrics_rf/non_winsorized'\n",
    "# output_dir_winsor = './OoS_metrics_rf/winsorized'\n"
   ]
  },
  {
   "cell_type": "code",
   "execution_count": 7,
   "metadata": {},
   "outputs": [
    {
     "name": "stdout",
     "output_type": "stream",
     "text": [
      "\n",
      "\u001b[1mHorizon: tau_1\u001b[0m\n",
      "\n",
      "\u001b[1mRMSE\u001b[0m\n",
      "Model: CatBoost - Median: 0.0001498102, IQR: 0.0002586318\n",
      "Model: LightGBM - Median: 0.0006989237, IQR: 0.0014414482\n",
      "Model: Random Forest - Median: 0.0001553500, IQR: 0.0002539505\n",
      "Model: GBM - Median: 0.0000693380, IQR: 0.0001521635\n",
      "Model: XGBoost - Median: 0.0001116698, IQR: 0.0002548106\n",
      "\n",
      "\u001b[1mMAE\u001b[0m\n",
      "Model: CatBoost - Median: 0.0001498102, IQR: 0.0002586318\n",
      "Model: LightGBM - Median: 0.0006989237, IQR: 0.0014414482\n",
      "Model: Random Forest - Median: 0.0001553500, IQR: 0.0002539505\n",
      "Model: GBM - Median: 0.0000693380, IQR: 0.0001521635\n",
      "Model: XGBoost - Median: 0.0001116698, IQR: 0.0002548106\n",
      "\n",
      "\u001b[1mMAD\u001b[0m\n"
     ]
    },
    {
     "name": "stderr",
     "output_type": "stream",
     "text": [
      "C:\\Users\\shafiullah.qureshi\\AppData\\Local\\Temp\\ipykernel_8924\\2115740482.py:86: MatplotlibDeprecationWarning: The 'labels' parameter of boxplot() has been renamed 'tick_labels' since Matplotlib 3.9; support for the old name will be dropped in 3.11.\n",
      "  box = plt.boxplot(data_list, vert=True, patch_artist=True, labels=model_labels)\n",
      "C:\\Users\\shafiullah.qureshi\\AppData\\Local\\Temp\\ipykernel_8924\\2115740482.py:86: MatplotlibDeprecationWarning: The 'labels' parameter of boxplot() has been renamed 'tick_labels' since Matplotlib 3.9; support for the old name will be dropped in 3.11.\n",
      "  box = plt.boxplot(data_list, vert=True, patch_artist=True, labels=model_labels)\n"
     ]
    },
    {
     "name": "stdout",
     "output_type": "stream",
     "text": [
      "Model: CatBoost - Median: 0.0001498102, IQR: 0.0002586318\n",
      "Model: LightGBM - Median: 0.0006989237, IQR: 0.0014414482\n",
      "Model: Random Forest - Median: 0.0001553500, IQR: 0.0002539505\n",
      "Model: GBM - Median: 0.0000693380, IQR: 0.0001521635\n",
      "Model: XGBoost - Median: 0.0001116698, IQR: 0.0002548106\n",
      "\n",
      "\u001b[1mR_SQ\u001b[0m\n",
      "Model: CatBoost - Median: 0.9935100783, IQR: 0.0504651038\n",
      "Model: LightGBM - Median: 0.8173439321, IQR: 0.4251673859\n",
      "Model: Random Forest - Median: 0.9924215808, IQR: 0.0275250163\n",
      "Model: GBM - Median: 0.9980328973, IQR: 0.0170972610\n",
      "Model: XGBoost - Median: 0.9945610405, IQR: 0.0222239739\n"
     ]
    },
    {
     "name": "stderr",
     "output_type": "stream",
     "text": [
      "C:\\Users\\shafiullah.qureshi\\AppData\\Local\\Temp\\ipykernel_8924\\2115740482.py:86: MatplotlibDeprecationWarning: The 'labels' parameter of boxplot() has been renamed 'tick_labels' since Matplotlib 3.9; support for the old name will be dropped in 3.11.\n",
      "  box = plt.boxplot(data_list, vert=True, patch_artist=True, labels=model_labels)\n",
      "C:\\Users\\shafiullah.qureshi\\AppData\\Local\\Temp\\ipykernel_8924\\2115740482.py:86: MatplotlibDeprecationWarning: The 'labels' parameter of boxplot() has been renamed 'tick_labels' since Matplotlib 3.9; support for the old name will be dropped in 3.11.\n",
      "  box = plt.boxplot(data_list, vert=True, patch_artist=True, labels=model_labels)\n"
     ]
    },
    {
     "name": "stdout",
     "output_type": "stream",
     "text": [
      "\n",
      "\u001b[1mHorizon: tau_3\u001b[0m\n",
      "\n",
      "\u001b[1mRMSE\u001b[0m\n",
      "Model: CatBoost - Median: 0.0002533806, IQR: 0.0003939246\n",
      "Model: LightGBM - Median: 0.0012423862, IQR: 0.0015437367\n",
      "Model: Random Forest - Median: 0.0002113448, IQR: 0.0003894245\n",
      "Model: GBM - Median: 0.0001287312, IQR: 0.0002199007\n",
      "Model: XGBoost - Median: 0.0002229829, IQR: 0.0006000963\n",
      "\n",
      "\u001b[1mMAE\u001b[0m\n",
      "Model: CatBoost - Median: 0.0002357206, IQR: 0.0002889680\n",
      "Model: LightGBM - Median: 0.0010724744, IQR: 0.0013767688\n",
      "Model: Random Forest - Median: 0.0001775426, IQR: 0.0002712855\n",
      "Model: GBM - Median: 0.0001096571, IQR: 0.0001717593\n",
      "Model: XGBoost - Median: 0.0001865691, IQR: 0.0005439987\n",
      "\n",
      "\u001b[1mMAD\u001b[0m\n",
      "Model: CatBoost - Median: 0.0002357206, IQR: 0.0002889680\n",
      "Model: LightGBM - Median: 0.0010724744, IQR: 0.0013767688\n"
     ]
    },
    {
     "name": "stderr",
     "output_type": "stream",
     "text": [
      "C:\\Users\\shafiullah.qureshi\\AppData\\Local\\Temp\\ipykernel_8924\\2115740482.py:86: MatplotlibDeprecationWarning: The 'labels' parameter of boxplot() has been renamed 'tick_labels' since Matplotlib 3.9; support for the old name will be dropped in 3.11.\n",
      "  box = plt.boxplot(data_list, vert=True, patch_artist=True, labels=model_labels)\n",
      "C:\\Users\\shafiullah.qureshi\\AppData\\Local\\Temp\\ipykernel_8924\\2115740482.py:86: MatplotlibDeprecationWarning: The 'labels' parameter of boxplot() has been renamed 'tick_labels' since Matplotlib 3.9; support for the old name will be dropped in 3.11.\n",
      "  box = plt.boxplot(data_list, vert=True, patch_artist=True, labels=model_labels)\n"
     ]
    },
    {
     "name": "stdout",
     "output_type": "stream",
     "text": [
      "Model: Random Forest - Median: 0.0001775426, IQR: 0.0002712855\n",
      "Model: GBM - Median: 0.0001096571, IQR: 0.0001717593\n",
      "Model: XGBoost - Median: 0.0001865691, IQR: 0.0005439987\n",
      "\n",
      "\u001b[1mR_SQ\u001b[0m\n",
      "Model: CatBoost - Median: 0.9896702694, IQR: 0.0313759204\n",
      "Model: LightGBM - Median: 0.8040663108, IQR: 0.3718721266\n",
      "Model: Random Forest - Median: 0.9916069521, IQR: 0.0184566839\n",
      "Model: GBM - Median: 0.9971702471, IQR: 0.0092120599\n",
      "Model: XGBoost - Median: 0.9907380072, IQR: 0.0436174154\n",
      "\n",
      "\u001b[1mHorizon: tau_6\u001b[0m\n",
      "\n",
      "\u001b[1mRMSE\u001b[0m\n",
      "Model: CatBoost - Median: 0.0003302499, IQR: 0.0004112985\n",
      "Model: LightGBM - Median: 0.0012024935, IQR: 0.0011911639\n",
      "Model: Random Forest - Median: 0.0003139269, IQR: 0.0004360669\n",
      "Model: GBM - Median: 0.0001756658, IQR: 0.0003266678\n",
      "Model: XGBoost - Median: 0.0002556783, IQR: 0.0007835758\n"
     ]
    },
    {
     "name": "stderr",
     "output_type": "stream",
     "text": [
      "C:\\Users\\shafiullah.qureshi\\AppData\\Local\\Temp\\ipykernel_8924\\2115740482.py:86: MatplotlibDeprecationWarning: The 'labels' parameter of boxplot() has been renamed 'tick_labels' since Matplotlib 3.9; support for the old name will be dropped in 3.11.\n",
      "  box = plt.boxplot(data_list, vert=True, patch_artist=True, labels=model_labels)\n",
      "C:\\Users\\shafiullah.qureshi\\AppData\\Local\\Temp\\ipykernel_8924\\2115740482.py:86: MatplotlibDeprecationWarning: The 'labels' parameter of boxplot() has been renamed 'tick_labels' since Matplotlib 3.9; support for the old name will be dropped in 3.11.\n",
      "  box = plt.boxplot(data_list, vert=True, patch_artist=True, labels=model_labels)\n",
      "C:\\Users\\shafiullah.qureshi\\AppData\\Local\\Temp\\ipykernel_8924\\2115740482.py:86: MatplotlibDeprecationWarning: The 'labels' parameter of boxplot() has been renamed 'tick_labels' since Matplotlib 3.9; support for the old name will be dropped in 3.11.\n",
      "  box = plt.boxplot(data_list, vert=True, patch_artist=True, labels=model_labels)\n"
     ]
    },
    {
     "name": "stdout",
     "output_type": "stream",
     "text": [
      "\n",
      "\u001b[1mMAE\u001b[0m\n",
      "Model: CatBoost - Median: 0.0002651631, IQR: 0.0002795260\n",
      "Model: LightGBM - Median: 0.0010362228, IQR: 0.0008965564\n",
      "Model: Random Forest - Median: 0.0002522868, IQR: 0.0002540609\n",
      "Model: GBM - Median: 0.0001207170, IQR: 0.0001618129\n",
      "Model: XGBoost - Median: 0.0002159449, IQR: 0.0003538090\n",
      "\n",
      "\u001b[1mMAD\u001b[0m\n",
      "Model: CatBoost - Median: 0.0002651631, IQR: 0.0002795260\n",
      "Model: LightGBM - Median: 0.0010362228, IQR: 0.0008965564\n",
      "Model: Random Forest - Median: 0.0002522868, IQR: 0.0002540609\n",
      "Model: GBM - Median: 0.0001207170, IQR: 0.0001618129\n",
      "Model: XGBoost - Median: 0.0002159449, IQR: 0.0003538090\n",
      "\n",
      "\u001b[1mR_SQ\u001b[0m\n",
      "Model: CatBoost - Median: 0.9855469176, IQR: 0.0255210120\n",
      "Model: LightGBM - Median: 0.7987176141, IQR: 0.2674339867\n"
     ]
    },
    {
     "name": "stderr",
     "output_type": "stream",
     "text": [
      "C:\\Users\\shafiullah.qureshi\\AppData\\Local\\Temp\\ipykernel_8924\\2115740482.py:86: MatplotlibDeprecationWarning: The 'labels' parameter of boxplot() has been renamed 'tick_labels' since Matplotlib 3.9; support for the old name will be dropped in 3.11.\n",
      "  box = plt.boxplot(data_list, vert=True, patch_artist=True, labels=model_labels)\n",
      "C:\\Users\\shafiullah.qureshi\\AppData\\Local\\Temp\\ipykernel_8924\\2115740482.py:86: MatplotlibDeprecationWarning: The 'labels' parameter of boxplot() has been renamed 'tick_labels' since Matplotlib 3.9; support for the old name will be dropped in 3.11.\n",
      "  box = plt.boxplot(data_list, vert=True, patch_artist=True, labels=model_labels)\n"
     ]
    },
    {
     "name": "stdout",
     "output_type": "stream",
     "text": [
      "Model: Random Forest - Median: 0.9872618455, IQR: 0.0248963382\n",
      "Model: GBM - Median: 0.9965864272, IQR: 0.0097519197\n",
      "Model: XGBoost - Median: 0.9898091199, IQR: 0.0536349543\n",
      "\n",
      "\u001b[1mHorizon: tau_9\u001b[0m\n",
      "\n",
      "\u001b[1mRMSE\u001b[0m\n",
      "Model: CatBoost - Median: 0.0004254394, IQR: 0.0004145962\n",
      "Model: LightGBM - Median: 0.0012522939, IQR: 0.0012391488\n",
      "Model: Random Forest - Median: 0.0004130207, IQR: 0.0004455364\n",
      "Model: GBM - Median: 0.0003580344, IQR: 0.0004507380\n",
      "Model: XGBoost - Median: 0.0003470628, IQR: 0.0007319115\n",
      "\n",
      "\u001b[1mMAE\u001b[0m\n",
      "Model: CatBoost - Median: 0.0002987883, IQR: 0.0002944021\n",
      "Model: LightGBM - Median: 0.0009683433, IQR: 0.0007785673\n"
     ]
    },
    {
     "name": "stderr",
     "output_type": "stream",
     "text": [
      "C:\\Users\\shafiullah.qureshi\\AppData\\Local\\Temp\\ipykernel_8924\\2115740482.py:86: MatplotlibDeprecationWarning: The 'labels' parameter of boxplot() has been renamed 'tick_labels' since Matplotlib 3.9; support for the old name will be dropped in 3.11.\n",
      "  box = plt.boxplot(data_list, vert=True, patch_artist=True, labels=model_labels)\n",
      "C:\\Users\\shafiullah.qureshi\\AppData\\Local\\Temp\\ipykernel_8924\\2115740482.py:86: MatplotlibDeprecationWarning: The 'labels' parameter of boxplot() has been renamed 'tick_labels' since Matplotlib 3.9; support for the old name will be dropped in 3.11.\n",
      "  box = plt.boxplot(data_list, vert=True, patch_artist=True, labels=model_labels)\n"
     ]
    },
    {
     "name": "stdout",
     "output_type": "stream",
     "text": [
      "Model: Random Forest - Median: 0.0002738885, IQR: 0.0002553538\n",
      "Model: GBM - Median: 0.0001689566, IQR: 0.0002396514\n",
      "Model: XGBoost - Median: 0.0002823804, IQR: 0.0003591419\n",
      "\n",
      "\u001b[1mMAD\u001b[0m\n",
      "Model: CatBoost - Median: 0.0002987883, IQR: 0.0002944021\n",
      "Model: LightGBM - Median: 0.0009683433, IQR: 0.0007785673\n",
      "Model: Random Forest - Median: 0.0002738885, IQR: 0.0002553538\n",
      "Model: GBM - Median: 0.0001689566, IQR: 0.0002396514\n",
      "Model: XGBoost - Median: 0.0002823804, IQR: 0.0003591419\n"
     ]
    },
    {
     "name": "stderr",
     "output_type": "stream",
     "text": [
      "C:\\Users\\shafiullah.qureshi\\AppData\\Local\\Temp\\ipykernel_8924\\2115740482.py:86: MatplotlibDeprecationWarning: The 'labels' parameter of boxplot() has been renamed 'tick_labels' since Matplotlib 3.9; support for the old name will be dropped in 3.11.\n",
      "  box = plt.boxplot(data_list, vert=True, patch_artist=True, labels=model_labels)\n",
      "C:\\Users\\shafiullah.qureshi\\AppData\\Local\\Temp\\ipykernel_8924\\2115740482.py:86: MatplotlibDeprecationWarning: The 'labels' parameter of boxplot() has been renamed 'tick_labels' since Matplotlib 3.9; support for the old name will be dropped in 3.11.\n",
      "  box = plt.boxplot(data_list, vert=True, patch_artist=True, labels=model_labels)\n"
     ]
    },
    {
     "name": "stdout",
     "output_type": "stream",
     "text": [
      "\n",
      "\u001b[1mR_SQ\u001b[0m\n",
      "Model: CatBoost - Median: 0.9790125471, IQR: 0.0376052393\n",
      "Model: LightGBM - Median: 0.7780081549, IQR: 0.2529356281\n",
      "Model: Random Forest - Median: 0.9806361688, IQR: 0.0444611464\n",
      "Model: GBM - Median: 0.9896228345, IQR: 0.0304635093\n",
      "Model: XGBoost - Median: 0.9822993221, IQR: 0.0646291623\n",
      "Combined summary CSV saved: graph_pdc_off/combined_metrics_summary.csv\n"
     ]
    },
    {
     "name": "stderr",
     "output_type": "stream",
     "text": [
      "C:\\Users\\shafiullah.qureshi\\AppData\\Local\\Temp\\ipykernel_8924\\2115740482.py:86: MatplotlibDeprecationWarning: The 'labels' parameter of boxplot() has been renamed 'tick_labels' since Matplotlib 3.9; support for the old name will be dropped in 3.11.\n",
      "  box = plt.boxplot(data_list, vert=True, patch_artist=True, labels=model_labels)\n"
     ]
    }
   ],
   "source": [
    "## pdc off\n",
    "\n",
    "import os\n",
    "import pandas as pd\n",
    "import matplotlib.pyplot as plt\n",
    "import seaborn as sns\n",
    "\n",
    "\n",
    "custom_colors = {\n",
    "    'CatBoost': 'blue',\n",
    "    'LightGBM': 'green',\n",
    "    'Random Forest': 'orange',\n",
    "    'SVM': 'purple',\n",
    "    'XGBoost': 'pink'\n",
    "}\n",
    "\n",
    "# List of folder paths and their labels for different horizons\n",
    "horizons = ['tau_1', 'tau_3', 'tau_6', 'tau_9']\n",
    "folders_template = [\n",
    "    ('C:\\\\Users\\\\shafiullah.qureshi\\\\OneDrive - Government of Alberta\\\\Documents\\\\nowcast_gdp\\\\gdp_paper_updated\\\\OoS_metrics_Catboost_off\\\\winsorized\\\\OoS_metrics_{}_winsorized.csv', 'CatBoost'),\n",
    "    ('C:\\\\Users\\\\shafiullah.qureshi\\\\OneDrive - Government of Alberta\\\\Documents\\\\nowcast_gdp\\\\gdp_paper_updated\\\\OoS_metrics_LightGBM_off\\\\winsorized\\\\OoS_metrics_{}_winsorized.csv', 'LightGBM'),\n",
    "    ('C:\\\\Users\\\\shafiullah.qureshi\\\\OneDrive - Government of Alberta\\\\Documents\\\\nowcast_gdp\\\\gdp_paper_updated\\\\OoS_metrics_rf_off\\\\winsorized\\\\OoS_metrics_{}_winsorized.csv', 'Random Forest'),\n",
    "    ('C:\\\\Users\\\\shafiullah.qureshi\\\\OneDrive - Government of Alberta\\\\Documents\\\\nowcast_gdp\\\\gdp_paper_updated\\\\OoS_metrics_GBM_off\\\\winsorized\\\\OoS_metrics_{}_winsorized.csv', 'GBM'),\n",
    "    ('C:\\\\Users\\\\shafiullah.qureshi\\\\OneDrive - Government of Alberta\\\\Documents\\\\nowcast_gdp\\\\gdp_paper_updated\\\\OoS_metrics_xgboost_off\\\\winsorized\\\\OoS_metrics_{}_winsorized.csv', 'XGBoost')\n",
    "    \n",
    "]\n",
    "\n",
    "# Create a folder to save the graphs and combined CSVgdp_paper_updated\n",
    "output_folder = 'graph_pdc_off'\n",
    "os.makedirs(output_folder, exist_ok=True)\n",
    "\n",
    "# List of metrics to plot\n",
    "metrics = ['rmse', 'mae', 'mad', 'r_sq']\n",
    "\n",
    "# Mapping for nice Y-axis labels\n",
    "metric_labels = {\n",
    "    'rmse': 'RMSE',\n",
    "    'mae': 'MAE',\n",
    "    'mad': 'MAD',\n",
    "    'r_sq': 'R²'\n",
    "}\n",
    "\n",
    "# Initialize a DataFrame to store all combined metrics\n",
    "combined_summary_df = pd.DataFrame()\n",
    "\n",
    "# Iterate over each horizon and plot the metrics\n",
    "for horizon in horizons:\n",
    "    print(f\"\\n\\033[1mHorizon: {horizon}\\033[0m\")\n",
    "    for metric in metrics:\n",
    "        plt.figure(figsize=(14, 8))  # Updated size for better visibility\n",
    "        data_list = []\n",
    "        model_labels = []\n",
    "        metric_data_summary = []\n",
    "\n",
    "        print(f\"\\n\\033[1m{metric.upper()}\\033[0m\")\n",
    "        for folder_template, model_name in folders_template:\n",
    "            file_path = folder_template.format(horizon)\n",
    "            \n",
    "            # Load the CSV file\n",
    "            try:\n",
    "                data = pd.read_csv(file_path)\n",
    "                data = data.dropna(subset=['ssample_end_date'])\n",
    "                # Collect data for the current metric\n",
    "                data_list.append(data[metric])\n",
    "                model_labels.append(model_name)\n",
    "\n",
    "                # Calculate and print raw median and IQR\n",
    "                median = data[metric].median()\n",
    "                iqr = data[metric].quantile(0.75) - data[metric].quantile(0.25)\n",
    "                print(f\"Model: {model_name} - Median: {median:.10f}, IQR: {iqr:.10f}\")\n",
    "                \n",
    "                # Append to summary list\n",
    "                metric_data_summary.append({\n",
    "                    'Horizon': horizon,\n",
    "                    'Metric': metric,\n",
    "                    'Model': model_name,\n",
    "                    'Median': median,\n",
    "                    'IQR': iqr\n",
    "                })\n",
    "\n",
    "            except FileNotFoundError:\n",
    "                print(f\"File not found: {file_path}\")\n",
    "                continue\n",
    "\n",
    "        # Plot all models' data for the current metric with custom colors\n",
    "        box = plt.boxplot(data_list, vert=True, patch_artist=True, labels=model_labels)\n",
    "        for patch, model_name in zip(box['boxes'], model_labels):\n",
    "            patch.set_facecolor(custom_colors.get(model_name, 'grey'))\n",
    "\n",
    "        # Customize Y-axis for R-squared to show negative scale if applicable\n",
    "        if metric == 'r_sq':\n",
    "            plt.ylim(-1, 1)\n",
    "            plt.axhline(0, color='red', linestyle='--', linewidth=0.5)\n",
    "\n",
    "        # Enhance visibility of axis labels\n",
    "        plt.xlabel('Model', fontsize=14)\n",
    "        plt.ylabel(metric_labels.get(metric, metric), fontsize=14)\n",
    "        plt.xticks(fontsize=12)\n",
    "        plt.yticks(fontsize=12)\n",
    "        \n",
    "        # Save the figure without title\n",
    "        file_name = f'{output_folder}/{metric}_{horizon}.png'\n",
    "        plt.grid(True, linestyle='--', alpha=0.5)\n",
    "        plt.savefig(file_name, bbox_inches='tight')\n",
    "        plt.close()\n",
    "\n",
    "        # Append the metric data to the combined summary DataFrame\n",
    "        combined_summary_df = pd.concat([combined_summary_df, pd.DataFrame(metric_data_summary)], ignore_index=True)\n",
    "\n",
    "# Save the combined metrics data as a single CSV\n",
    "combined_csv_file_name = f'{output_folder}/combined_metrics_summary.csv'\n",
    "combined_summary_df.to_csv(combined_csv_file_name, index=False)\n",
    "print(f\"Combined summary CSV saved: {combined_csv_file_name}\")"
   ]
  },
  {
   "cell_type": "code",
   "execution_count": 5,
   "metadata": {},
   "outputs": [
    {
     "name": "stdout",
     "output_type": "stream",
     "text": [
      "\n",
      "\u001b[1mHorizon: tau_1\u001b[0m\n",
      "\n",
      "\u001b[1mRMSE\u001b[0m\n",
      "Model: CatBoost - Median: 0.0001204683, IQR: 0.0001722886\n",
      "Model: LightGBM - Median: 0.0006116745, IQR: 0.0013085218\n",
      "Model: Random Forest - Median: 0.0001427265, IQR: 0.0002817477\n",
      "Model: GBM - Median: 0.0000711435, IQR: 0.0001534643\n",
      "Model: XGBoost - Median: 0.0001142797, IQR: 0.0002461331\n",
      "\n",
      "\u001b[1mMAE\u001b[0m\n",
      "Model: CatBoost - Median: 0.0001204683, IQR: 0.0001722886\n",
      "Model: LightGBM - Median: 0.0006116745, IQR: 0.0013085218\n",
      "Model: Random Forest - Median: 0.0001427265, IQR: 0.0002817477\n",
      "Model: GBM - Median: 0.0000711435, IQR: 0.0001534643\n",
      "Model: XGBoost - Median: 0.0001142797, IQR: 0.0002461331\n"
     ]
    },
    {
     "name": "stderr",
     "output_type": "stream",
     "text": [
      "C:\\Users\\shafiullah.qureshi\\AppData\\Local\\Temp\\ipykernel_8924\\2499538711.py:88: MatplotlibDeprecationWarning: The 'labels' parameter of boxplot() has been renamed 'tick_labels' since Matplotlib 3.9; support for the old name will be dropped in 3.11.\n",
      "  box = plt.boxplot(data_list, vert=True, patch_artist=True, labels=model_labels)\n",
      "C:\\Users\\shafiullah.qureshi\\AppData\\Local\\Temp\\ipykernel_8924\\2499538711.py:88: MatplotlibDeprecationWarning: The 'labels' parameter of boxplot() has been renamed 'tick_labels' since Matplotlib 3.9; support for the old name will be dropped in 3.11.\n",
      "  box = plt.boxplot(data_list, vert=True, patch_artist=True, labels=model_labels)\n"
     ]
    },
    {
     "name": "stdout",
     "output_type": "stream",
     "text": [
      "\n",
      "\u001b[1mMAD\u001b[0m\n",
      "Model: CatBoost - Median: 0.0001204683, IQR: 0.0001722886\n",
      "Model: LightGBM - Median: 0.0006116745, IQR: 0.0013085218\n",
      "Model: Random Forest - Median: 0.0001427265, IQR: 0.0002817477\n",
      "Model: GBM - Median: 0.0000711435, IQR: 0.0001534643\n",
      "Model: XGBoost - Median: 0.0001142797, IQR: 0.0002461331\n",
      "\n",
      "\u001b[1mR_SQ\u001b[0m\n",
      "Model: CatBoost - Median: 0.9972119702, IQR: 0.0266090539\n",
      "Model: LightGBM - Median: 0.8610356156, IQR: 0.4624950823\n",
      "Model: Random Forest - Median: 0.9927109566, IQR: 0.0391935258\n",
      "Model: GBM - Median: 0.9986915794, IQR: 0.0087539676\n",
      "Model: XGBoost - Median: 0.9945298550, IQR: 0.0210415639\n",
      "\n",
      "\u001b[1mHorizon: tau_3\u001b[0m\n",
      "\n",
      "\u001b[1mRMSE\u001b[0m\n"
     ]
    },
    {
     "name": "stderr",
     "output_type": "stream",
     "text": [
      "C:\\Users\\shafiullah.qureshi\\AppData\\Local\\Temp\\ipykernel_8924\\2499538711.py:88: MatplotlibDeprecationWarning: The 'labels' parameter of boxplot() has been renamed 'tick_labels' since Matplotlib 3.9; support for the old name will be dropped in 3.11.\n",
      "  box = plt.boxplot(data_list, vert=True, patch_artist=True, labels=model_labels)\n",
      "C:\\Users\\shafiullah.qureshi\\AppData\\Local\\Temp\\ipykernel_8924\\2499538711.py:88: MatplotlibDeprecationWarning: The 'labels' parameter of boxplot() has been renamed 'tick_labels' since Matplotlib 3.9; support for the old name will be dropped in 3.11.\n",
      "  box = plt.boxplot(data_list, vert=True, patch_artist=True, labels=model_labels)\n"
     ]
    },
    {
     "name": "stdout",
     "output_type": "stream",
     "text": [
      "Model: CatBoost - Median: 0.0002127644, IQR: 0.0003153377\n",
      "Model: LightGBM - Median: 0.0010383809, IQR: 0.0012146999\n",
      "Model: Random Forest - Median: 0.0002316564, IQR: 0.0004480742\n",
      "Model: GBM - Median: 0.0001365800, IQR: 0.0003003676\n",
      "Model: XGBoost - Median: 0.0002050849, IQR: 0.0003720324\n",
      "\n",
      "\u001b[1mMAE\u001b[0m\n",
      "Model: CatBoost - Median: 0.0001803933, IQR: 0.0002108286\n",
      "Model: LightGBM - Median: 0.0008451376, IQR: 0.0008609899\n",
      "Model: Random Forest - Median: 0.0001991974, IQR: 0.0003139322\n",
      "Model: GBM - Median: 0.0001200811, IQR: 0.0002014705\n",
      "Model: XGBoost - Median: 0.0001785677, IQR: 0.0003186061\n"
     ]
    },
    {
     "name": "stderr",
     "output_type": "stream",
     "text": [
      "C:\\Users\\shafiullah.qureshi\\AppData\\Local\\Temp\\ipykernel_8924\\2499538711.py:88: MatplotlibDeprecationWarning: The 'labels' parameter of boxplot() has been renamed 'tick_labels' since Matplotlib 3.9; support for the old name will be dropped in 3.11.\n",
      "  box = plt.boxplot(data_list, vert=True, patch_artist=True, labels=model_labels)\n",
      "C:\\Users\\shafiullah.qureshi\\AppData\\Local\\Temp\\ipykernel_8924\\2499538711.py:88: MatplotlibDeprecationWarning: The 'labels' parameter of boxplot() has been renamed 'tick_labels' since Matplotlib 3.9; support for the old name will be dropped in 3.11.\n",
      "  box = plt.boxplot(data_list, vert=True, patch_artist=True, labels=model_labels)\n"
     ]
    },
    {
     "name": "stdout",
     "output_type": "stream",
     "text": [
      "\n",
      "\u001b[1mMAD\u001b[0m\n",
      "Model: CatBoost - Median: 0.0001803933, IQR: 0.0002108286\n",
      "Model: LightGBM - Median: 0.0008451376, IQR: 0.0008609899\n",
      "Model: Random Forest - Median: 0.0001991974, IQR: 0.0003139322\n",
      "Model: GBM - Median: 0.0001200811, IQR: 0.0002014705\n",
      "Model: XGBoost - Median: 0.0001785677, IQR: 0.0003186061\n",
      "\n",
      "\u001b[1mR_SQ\u001b[0m\n",
      "Model: CatBoost - Median: 0.9939238532, IQR: 0.0130363118\n",
      "Model: LightGBM - Median: 0.8574186757, IQR: 0.2787814533\n",
      "Model: Random Forest - Median: 0.9917237211, IQR: 0.0212610908\n",
      "Model: GBM - Median: 0.9960026818, IQR: 0.0078673157\n",
      "Model: XGBoost - Median: 0.9914421278, IQR: 0.0202252567\n"
     ]
    },
    {
     "name": "stderr",
     "output_type": "stream",
     "text": [
      "C:\\Users\\shafiullah.qureshi\\AppData\\Local\\Temp\\ipykernel_8924\\2499538711.py:88: MatplotlibDeprecationWarning: The 'labels' parameter of boxplot() has been renamed 'tick_labels' since Matplotlib 3.9; support for the old name will be dropped in 3.11.\n",
      "  box = plt.boxplot(data_list, vert=True, patch_artist=True, labels=model_labels)\n",
      "C:\\Users\\shafiullah.qureshi\\AppData\\Local\\Temp\\ipykernel_8924\\2499538711.py:88: MatplotlibDeprecationWarning: The 'labels' parameter of boxplot() has been renamed 'tick_labels' since Matplotlib 3.9; support for the old name will be dropped in 3.11.\n",
      "  box = plt.boxplot(data_list, vert=True, patch_artist=True, labels=model_labels)\n"
     ]
    },
    {
     "name": "stdout",
     "output_type": "stream",
     "text": [
      "\n",
      "\u001b[1mHorizon: tau_6\u001b[0m\n",
      "\n",
      "\u001b[1mRMSE\u001b[0m\n",
      "Model: CatBoost - Median: 0.0002243555, IQR: 0.0002459254\n",
      "Model: LightGBM - Median: 0.0013433158, IQR: 0.0011044675\n",
      "Model: Random Forest - Median: 0.0003155361, IQR: 0.0004228666\n",
      "Model: GBM - Median: 0.0001934334, IQR: 0.0003638679\n",
      "Model: XGBoost - Median: 0.0002442392, IQR: 0.0007934329\n",
      "\n",
      "\u001b[1mMAE\u001b[0m\n",
      "Model: CatBoost - Median: 0.0001868071, IQR: 0.0001513334\n",
      "Model: LightGBM - Median: 0.0010955645, IQR: 0.0008238171\n",
      "Model: Random Forest - Median: 0.0002661055, IQR: 0.0003029591\n",
      "Model: GBM - Median: 0.0001413574, IQR: 0.0001851461\n",
      "Model: XGBoost - Median: 0.0002061815, IQR: 0.0003660538\n"
     ]
    },
    {
     "name": "stderr",
     "output_type": "stream",
     "text": [
      "C:\\Users\\shafiullah.qureshi\\AppData\\Local\\Temp\\ipykernel_8924\\2499538711.py:88: MatplotlibDeprecationWarning: The 'labels' parameter of boxplot() has been renamed 'tick_labels' since Matplotlib 3.9; support for the old name will be dropped in 3.11.\n",
      "  box = plt.boxplot(data_list, vert=True, patch_artist=True, labels=model_labels)\n",
      "C:\\Users\\shafiullah.qureshi\\AppData\\Local\\Temp\\ipykernel_8924\\2499538711.py:88: MatplotlibDeprecationWarning: The 'labels' parameter of boxplot() has been renamed 'tick_labels' since Matplotlib 3.9; support for the old name will be dropped in 3.11.\n",
      "  box = plt.boxplot(data_list, vert=True, patch_artist=True, labels=model_labels)\n"
     ]
    },
    {
     "name": "stdout",
     "output_type": "stream",
     "text": [
      "\n",
      "\u001b[1mMAD\u001b[0m\n",
      "Model: CatBoost - Median: 0.0001868071, IQR: 0.0001513334\n",
      "Model: LightGBM - Median: 0.0010955645, IQR: 0.0008238171\n",
      "Model: Random Forest - Median: 0.0002661055, IQR: 0.0003029591\n",
      "Model: GBM - Median: 0.0001413574, IQR: 0.0001851461\n",
      "Model: XGBoost - Median: 0.0002061815, IQR: 0.0003660538\n",
      "\n",
      "\u001b[1mR_SQ\u001b[0m\n",
      "Model: CatBoost - Median: 0.9936193714, IQR: 0.0143197460\n",
      "Model: LightGBM - Median: 0.7920188228, IQR: 0.2949539340\n",
      "Model: Random Forest - Median: 0.9826328893, IQR: 0.0326855781\n",
      "Model: GBM - Median: 0.9948451580, IQR: 0.0205953085\n",
      "Model: XGBoost - Median: 0.9904685267, IQR: 0.0539116290\n",
      "\n",
      "\u001b[1mHorizon: tau_9\u001b[0m\n",
      "\n",
      "\u001b[1mRMSE\u001b[0m\n"
     ]
    },
    {
     "name": "stderr",
     "output_type": "stream",
     "text": [
      "C:\\Users\\shafiullah.qureshi\\AppData\\Local\\Temp\\ipykernel_8924\\2499538711.py:88: MatplotlibDeprecationWarning: The 'labels' parameter of boxplot() has been renamed 'tick_labels' since Matplotlib 3.9; support for the old name will be dropped in 3.11.\n",
      "  box = plt.boxplot(data_list, vert=True, patch_artist=True, labels=model_labels)\n",
      "C:\\Users\\shafiullah.qureshi\\AppData\\Local\\Temp\\ipykernel_8924\\2499538711.py:88: MatplotlibDeprecationWarning: The 'labels' parameter of boxplot() has been renamed 'tick_labels' since Matplotlib 3.9; support for the old name will be dropped in 3.11.\n",
      "  box = plt.boxplot(data_list, vert=True, patch_artist=True, labels=model_labels)\n"
     ]
    },
    {
     "name": "stdout",
     "output_type": "stream",
     "text": [
      "Model: CatBoost - Median: 0.0002618857, IQR: 0.0003856190\n",
      "Model: LightGBM - Median: 0.0013247313, IQR: 0.0011189887\n",
      "Model: Random Forest - Median: 0.0004439445, IQR: 0.0005323537\n",
      "Model: GBM - Median: 0.0002471105, IQR: 0.0005714959\n",
      "Model: XGBoost - Median: 0.0003189286, IQR: 0.0007319115\n",
      "\n",
      "\u001b[1mMAE\u001b[0m\n",
      "Model: CatBoost - Median: 0.0001990752, IQR: 0.0002129588\n",
      "Model: LightGBM - Median: 0.0010834825, IQR: 0.0007910646\n",
      "Model: Random Forest - Median: 0.0002790083, IQR: 0.0002826542\n",
      "Model: GBM - Median: 0.0001624854, IQR: 0.0002166421\n",
      "Model: XGBoost - Median: 0.0002673838, IQR: 0.0003602236\n"
     ]
    },
    {
     "name": "stderr",
     "output_type": "stream",
     "text": [
      "C:\\Users\\shafiullah.qureshi\\AppData\\Local\\Temp\\ipykernel_8924\\2499538711.py:88: MatplotlibDeprecationWarning: The 'labels' parameter of boxplot() has been renamed 'tick_labels' since Matplotlib 3.9; support for the old name will be dropped in 3.11.\n",
      "  box = plt.boxplot(data_list, vert=True, patch_artist=True, labels=model_labels)\n",
      "C:\\Users\\shafiullah.qureshi\\AppData\\Local\\Temp\\ipykernel_8924\\2499538711.py:88: MatplotlibDeprecationWarning: The 'labels' parameter of boxplot() has been renamed 'tick_labels' since Matplotlib 3.9; support for the old name will be dropped in 3.11.\n",
      "  box = plt.boxplot(data_list, vert=True, patch_artist=True, labels=model_labels)\n"
     ]
    },
    {
     "name": "stdout",
     "output_type": "stream",
     "text": [
      "\n",
      "\u001b[1mMAD\u001b[0m\n",
      "Model: CatBoost - Median: 0.0001990752, IQR: 0.0002129588\n",
      "Model: LightGBM - Median: 0.0010834825, IQR: 0.0007910646\n",
      "Model: Random Forest - Median: 0.0002790083, IQR: 0.0002826542\n",
      "Model: GBM - Median: 0.0001624854, IQR: 0.0002166421\n",
      "Model: XGBoost - Median: 0.0002673838, IQR: 0.0003602236\n",
      "\n",
      "\u001b[1mR_SQ\u001b[0m\n",
      "Model: CatBoost - Median: 0.9925522171, IQR: 0.0274296787\n",
      "Model: LightGBM - Median: 0.7425022323, IQR: 0.2922721169\n",
      "Model: Random Forest - Median: 0.9765899184, IQR: 0.0459104716\n",
      "Model: GBM - Median: 0.9923569560, IQR: 0.0414701574\n",
      "Model: XGBoost - Median: 0.9833254223, IQR: 0.0678704161\n"
     ]
    },
    {
     "name": "stderr",
     "output_type": "stream",
     "text": [
      "C:\\Users\\shafiullah.qureshi\\AppData\\Local\\Temp\\ipykernel_8924\\2499538711.py:88: MatplotlibDeprecationWarning: The 'labels' parameter of boxplot() has been renamed 'tick_labels' since Matplotlib 3.9; support for the old name will be dropped in 3.11.\n",
      "  box = plt.boxplot(data_list, vert=True, patch_artist=True, labels=model_labels)\n",
      "C:\\Users\\shafiullah.qureshi\\AppData\\Local\\Temp\\ipykernel_8924\\2499538711.py:88: MatplotlibDeprecationWarning: The 'labels' parameter of boxplot() has been renamed 'tick_labels' since Matplotlib 3.9; support for the old name will be dropped in 3.11.\n",
      "  box = plt.boxplot(data_list, vert=True, patch_artist=True, labels=model_labels)\n"
     ]
    },
    {
     "name": "stdout",
     "output_type": "stream",
     "text": [
      "Combined summary CSV saved: graph_pdc_gt/combined_metrics_summary.csv\n"
     ]
    }
   ],
   "source": [
    "### pdc gt\n",
    "\n",
    "\n",
    "import os\n",
    "import pandas as pd\n",
    "import matplotlib.pyplot as plt\n",
    "import seaborn as sns\n",
    "\n",
    "# Set a color palette for the boxplots\n",
    "\n",
    "custom_colors = {\n",
    "    'CatBoost': 'blue',\n",
    "    'LightGBM': 'green',\n",
    "    'Random Forest': 'orange',\n",
    "    'SVM': 'purple',\n",
    "    'XGBoost': 'pink'\n",
    "}\n",
    "\n",
    "# List of folder paths and their labels for different horizons\n",
    "horizons = ['tau_1', 'tau_3', 'tau_6', 'tau_9']\n",
    "\n",
    "folders_template = [\n",
    "    ('C:\\\\Users\\\\shafiullah.qureshi\\\\OneDrive - Government of Alberta\\\\Documents\\\\nowcast_gdp\\\\gdp_paper_updated\\\\OoS_metrics_Catboost_gt\\\\winsorized\\\\OoS_metrics_{}_winsorized.csv', 'CatBoost'),\n",
    "    ('C:\\\\Users\\\\shafiullah.qureshi\\\\OneDrive - Government of Alberta\\\\Documents\\\\nowcast_gdp\\\\gdp_paper_updated\\\\OoS_metrics_LightGBM_gt\\\\winsorized\\\\OoS_metrics_{}_winsorized.csv', 'LightGBM'),\n",
    "    ('C:\\\\Users\\\\shafiullah.qureshi\\\\OneDrive - Government of Alberta\\\\Documents\\\\nowcast_gdp\\\\gdp_paper_updated\\\\OoS_metrics_rf_gt\\\\winsorized\\\\OoS_metrics_{}_winsorized.csv', 'Random Forest'),\n",
    "    ('C:\\\\Users\\\\shafiullah.qureshi\\\\OneDrive - Government of Alberta\\\\Documents\\\\nowcast_gdp\\\\gdp_paper_updated\\\\OoS_metrics_GBM_gt\\\\winsorized\\\\OoS_metrics_{}_winsorized.csv', 'GBM'),\n",
    "    ('C:\\\\Users\\\\shafiullah.qureshi\\\\OneDrive - Government of Alberta\\\\Documents\\\\nowcast_gdp\\\\gdp_paper_updated\\\\OoS_metrics_xgboost_gt\\\\winsorized\\\\OoS_metrics_{}_winsorized.csv', 'XGBoost')\n",
    "]\n",
    "\n",
    "# Create a folder to save the graphs and combined CSV\n",
    "output_folder = 'graph_pdc_gt'\n",
    "os.makedirs(output_folder, exist_ok=True)\n",
    "\n",
    "# List of metrics to plot\n",
    "metrics = ['rmse', 'mae', 'mad', 'r_sq']\n",
    "\n",
    "# Mapping for nice Y-axis labels\n",
    "metric_labels = {\n",
    "    'rmse': 'RMSE',\n",
    "    'mae': 'MAE',\n",
    "    'mad': 'MAD',\n",
    "    'r_sq': 'R²'\n",
    "}\n",
    "\n",
    "# Initialize a DataFrame to store all combined metrics\n",
    "combined_summary_df = pd.DataFrame()\n",
    "\n",
    "# Iterate over each horizon and plot the metrics\n",
    "for horizon in horizons:\n",
    "    print(f\"\\n\\033[1mHorizon: {horizon}\\033[0m\")\n",
    "    for metric in metrics:\n",
    "        plt.figure(figsize=(14, 8))  # Updated size for better visibility\n",
    "        data_list = []\n",
    "        model_labels = []\n",
    "        metric_data_summary = []\n",
    "\n",
    "        print(f\"\\n\\033[1m{metric.upper()}\\033[0m\")\n",
    "        for folder_template, model_name in folders_template:\n",
    "            file_path = folder_template.format(horizon)\n",
    "            \n",
    "            # Load the CSV file\n",
    "            try:\n",
    "                data = pd.read_csv(file_path)\n",
    "                data = data.dropna(subset=['ssample_end_date'])\n",
    "                # Collect data for the current metric\n",
    "                data_list.append(data[metric])\n",
    "                model_labels.append(model_name)\n",
    "\n",
    "                # Calculate and print raw median and IQR\n",
    "                median = data[metric].median()\n",
    "                iqr = data[metric].quantile(0.75) - data[metric].quantile(0.25)\n",
    "                print(f\"Model: {model_name} - Median: {median:.10f}, IQR: {iqr:.10f}\")\n",
    "                \n",
    "                # Append to summary list\n",
    "                metric_data_summary.append({\n",
    "                    'Horizon': horizon,\n",
    "                    'Metric': metric,\n",
    "                    'Model': model_name,\n",
    "                    'Median': median,\n",
    "                    'IQR': iqr\n",
    "                })\n",
    "\n",
    "            except FileNotFoundError:\n",
    "                print(f\"File not found: {file_path}\")\n",
    "                continue\n",
    "\n",
    "        # Plot all models' data for the current metric with custom colors\n",
    "        box = plt.boxplot(data_list, vert=True, patch_artist=True, labels=model_labels)\n",
    "        for patch, model_name in zip(box['boxes'], model_labels):\n",
    "            patch.set_facecolor(custom_colors.get(model_name, 'grey'))\n",
    "\n",
    "        # Customize Y-axis for R-squared to show negative scale if applicable\n",
    "        if metric == 'r_sq':\n",
    "            plt.ylim(-1, 1)\n",
    "            plt.axhline(0, color='red', linestyle='--', linewidth=0.5)\n",
    "\n",
    "        # Enhance visibility of axis labels\n",
    "        plt.xlabel('Model', fontsize=14)\n",
    "        plt.ylabel(metric_labels.get(metric, metric), fontsize=14)\n",
    "        plt.xticks(fontsize=12)\n",
    "        plt.yticks(fontsize=12)\n",
    "        \n",
    "        # Save the figure without title\n",
    "        file_name = f'{output_folder}/{metric}_{horizon}.png'\n",
    "        plt.grid(True, linestyle='--', alpha=0.5)\n",
    "        plt.savefig(file_name, bbox_inches='tight')\n",
    "        plt.close()\n",
    "\n",
    "        # Append the metric data to the combined summary DataFrame\n",
    "        combined_summary_df = pd.concat([combined_summary_df, pd.DataFrame(metric_data_summary)], ignore_index=True)\n",
    "\n",
    "# Save the combined metrics data as a single CSV\n",
    "combined_csv_file_name = f'{output_folder}/combined_metrics_summary.csv'\n",
    "combined_summary_df.to_csv(combined_csv_file_name, index=False)\n",
    "print(f\"Combined summary CSV saved: {combined_csv_file_name}\")\n"
   ]
  },
  {
   "cell_type": "code",
   "execution_count": 8,
   "metadata": {},
   "outputs": [
    {
     "name": "stdout",
     "output_type": "stream",
     "text": [
      "\n",
      "\u001b[1mHorizon: tau_1\u001b[0m\n",
      "\n",
      "\u001b[1mRMSE\u001b[0m\n",
      "Model: CatBoost - Median: 0.0001330241, IQR: 0.0002645719\n",
      "Model: LightGBM - Median: 0.0006633648, IQR: 0.0014068901\n",
      "Model: Random Forest - Median: 0.0001615137, IQR: 0.0002557363\n",
      "Model: GBM - Median: 0.0000752996, IQR: 0.0001498024\n",
      "Model: XGBoost - Median: 0.0001116698, IQR: 0.0002529876\n",
      "\n",
      "\u001b[1mMAE\u001b[0m\n",
      "Model: CatBoost - Median: 0.0001330241, IQR: 0.0002645719\n",
      "Model: LightGBM - Median: 0.0006633648, IQR: 0.0014068901\n",
      "Model: Random Forest - Median: 0.0001615137, IQR: 0.0002557363\n",
      "Model: GBM - Median: 0.0000752996, IQR: 0.0001498024\n",
      "Model: XGBoost - Median: 0.0001116698, IQR: 0.0002529876\n"
     ]
    },
    {
     "name": "stderr",
     "output_type": "stream",
     "text": [
      "C:\\Users\\shafiullah.qureshi\\AppData\\Local\\Temp\\ipykernel_8924\\2600231866.py:89: MatplotlibDeprecationWarning: The 'labels' parameter of boxplot() has been renamed 'tick_labels' since Matplotlib 3.9; support for the old name will be dropped in 3.11.\n",
      "  box = plt.boxplot(data_list, vert=True, patch_artist=True, labels=model_labels)\n",
      "C:\\Users\\shafiullah.qureshi\\AppData\\Local\\Temp\\ipykernel_8924\\2600231866.py:89: MatplotlibDeprecationWarning: The 'labels' parameter of boxplot() has been renamed 'tick_labels' since Matplotlib 3.9; support for the old name will be dropped in 3.11.\n",
      "  box = plt.boxplot(data_list, vert=True, patch_artist=True, labels=model_labels)\n"
     ]
    },
    {
     "name": "stdout",
     "output_type": "stream",
     "text": [
      "\n",
      "\u001b[1mMAD\u001b[0m\n",
      "Model: CatBoost - Median: 0.0001330241, IQR: 0.0002645719\n",
      "Model: LightGBM - Median: 0.0006633648, IQR: 0.0014068901\n",
      "Model: Random Forest - Median: 0.0001615137, IQR: 0.0002557363\n",
      "Model: GBM - Median: 0.0000752996, IQR: 0.0001498024\n",
      "Model: XGBoost - Median: 0.0001116698, IQR: 0.0002529876\n",
      "\n",
      "\u001b[1mR_SQ\u001b[0m\n",
      "Model: CatBoost - Median: 0.9922323609, IQR: 0.0338228197\n",
      "Model: LightGBM - Median: 0.8387649017, IQR: 0.4295075322\n",
      "Model: Random Forest - Median: 0.9924215808, IQR: 0.0278407936\n",
      "Model: GBM - Median: 0.9979041446, IQR: 0.0161543457\n",
      "Model: XGBoost - Median: 0.9943257565, IQR: 0.0249498009\n"
     ]
    },
    {
     "name": "stderr",
     "output_type": "stream",
     "text": [
      "C:\\Users\\shafiullah.qureshi\\AppData\\Local\\Temp\\ipykernel_8924\\2600231866.py:89: MatplotlibDeprecationWarning: The 'labels' parameter of boxplot() has been renamed 'tick_labels' since Matplotlib 3.9; support for the old name will be dropped in 3.11.\n",
      "  box = plt.boxplot(data_list, vert=True, patch_artist=True, labels=model_labels)\n",
      "C:\\Users\\shafiullah.qureshi\\AppData\\Local\\Temp\\ipykernel_8924\\2600231866.py:89: MatplotlibDeprecationWarning: The 'labels' parameter of boxplot() has been renamed 'tick_labels' since Matplotlib 3.9; support for the old name will be dropped in 3.11.\n",
      "  box = plt.boxplot(data_list, vert=True, patch_artist=True, labels=model_labels)\n"
     ]
    },
    {
     "name": "stdout",
     "output_type": "stream",
     "text": [
      "\n",
      "\u001b[1mHorizon: tau_3\u001b[0m\n",
      "\n",
      "\u001b[1mRMSE\u001b[0m\n",
      "Model: CatBoost - Median: 0.0002464207, IQR: 0.0003566170\n",
      "Model: LightGBM - Median: 0.0011876968, IQR: 0.0015708448\n",
      "Model: Random Forest - Median: 0.0002071082, IQR: 0.0003948615\n",
      "Model: GBM - Median: 0.0001332484, IQR: 0.0002198974\n",
      "Model: XGBoost - Median: 0.0002296427, IQR: 0.0005968399\n",
      "\n",
      "\u001b[1mMAE\u001b[0m\n",
      "Model: CatBoost - Median: 0.0002107423, IQR: 0.0002727228\n",
      "Model: LightGBM - Median: 0.0010174358, IQR: 0.0014610627\n",
      "Model: Random Forest - Median: 0.0001703297, IQR: 0.0002631401\n",
      "Model: GBM - Median: 0.0001085748, IQR: 0.0001693528\n",
      "Model: XGBoost - Median: 0.0001933940, IQR: 0.0005433208\n"
     ]
    },
    {
     "name": "stderr",
     "output_type": "stream",
     "text": [
      "C:\\Users\\shafiullah.qureshi\\AppData\\Local\\Temp\\ipykernel_8924\\2600231866.py:89: MatplotlibDeprecationWarning: The 'labels' parameter of boxplot() has been renamed 'tick_labels' since Matplotlib 3.9; support for the old name will be dropped in 3.11.\n",
      "  box = plt.boxplot(data_list, vert=True, patch_artist=True, labels=model_labels)\n",
      "C:\\Users\\shafiullah.qureshi\\AppData\\Local\\Temp\\ipykernel_8924\\2600231866.py:89: MatplotlibDeprecationWarning: The 'labels' parameter of boxplot() has been renamed 'tick_labels' since Matplotlib 3.9; support for the old name will be dropped in 3.11.\n",
      "  box = plt.boxplot(data_list, vert=True, patch_artist=True, labels=model_labels)\n"
     ]
    },
    {
     "name": "stdout",
     "output_type": "stream",
     "text": [
      "\n",
      "\u001b[1mMAD\u001b[0m\n",
      "Model: CatBoost - Median: 0.0002107423, IQR: 0.0002727228\n",
      "Model: LightGBM - Median: 0.0010174358, IQR: 0.0014610627\n",
      "Model: Random Forest - Median: 0.0001703297, IQR: 0.0002631401\n",
      "Model: GBM - Median: 0.0001085748, IQR: 0.0001693528\n",
      "Model: XGBoost - Median: 0.0001933940, IQR: 0.0005433208\n",
      "\n",
      "\u001b[1mR_SQ\u001b[0m\n",
      "Model: CatBoost - Median: 0.9915222987, IQR: 0.0183094161\n",
      "Model: LightGBM - Median: 0.8207166749, IQR: 0.3040865037\n",
      "Model: Random Forest - Median: 0.9919602389, IQR: 0.0185119053\n",
      "Model: GBM - Median: 0.9971125664, IQR: 0.0093236017\n",
      "Model: XGBoost - Median: 0.9905506378, IQR: 0.0431553615\n",
      "\n",
      "\u001b[1mHorizon: tau_6\u001b[0m\n",
      "\n",
      "\u001b[1mRMSE\u001b[0m\n",
      "Model: CatBoost - Median: 0.0003302499, IQR: 0.0003564509\n",
      "Model: LightGBM - Median: 0.0011834668, IQR: 0.0011655770\n"
     ]
    },
    {
     "name": "stderr",
     "output_type": "stream",
     "text": [
      "C:\\Users\\shafiullah.qureshi\\AppData\\Local\\Temp\\ipykernel_8924\\2600231866.py:89: MatplotlibDeprecationWarning: The 'labels' parameter of boxplot() has been renamed 'tick_labels' since Matplotlib 3.9; support for the old name will be dropped in 3.11.\n",
      "  box = plt.boxplot(data_list, vert=True, patch_artist=True, labels=model_labels)\n",
      "C:\\Users\\shafiullah.qureshi\\AppData\\Local\\Temp\\ipykernel_8924\\2600231866.py:89: MatplotlibDeprecationWarning: The 'labels' parameter of boxplot() has been renamed 'tick_labels' since Matplotlib 3.9; support for the old name will be dropped in 3.11.\n",
      "  box = plt.boxplot(data_list, vert=True, patch_artist=True, labels=model_labels)\n"
     ]
    },
    {
     "name": "stdout",
     "output_type": "stream",
     "text": [
      "Model: Random Forest - Median: 0.0003139269, IQR: 0.0004389060\n",
      "Model: GBM - Median: 0.0001652941, IQR: 0.0003674319\n",
      "Model: XGBoost - Median: 0.0002556783, IQR: 0.0007835758\n",
      "\n",
      "\u001b[1mMAE\u001b[0m\n",
      "Model: CatBoost - Median: 0.0002585327, IQR: 0.0002572837\n",
      "Model: LightGBM - Median: 0.0010264705, IQR: 0.0008949370\n",
      "Model: Random Forest - Median: 0.0002522868, IQR: 0.0002299371\n",
      "Model: GBM - Median: 0.0001226164, IQR: 0.0001576017\n",
      "Model: XGBoost - Median: 0.0002159449, IQR: 0.0003538090\n",
      "\n",
      "\u001b[1mMAD\u001b[0m\n"
     ]
    },
    {
     "name": "stderr",
     "output_type": "stream",
     "text": [
      "C:\\Users\\shafiullah.qureshi\\AppData\\Local\\Temp\\ipykernel_8924\\2600231866.py:89: MatplotlibDeprecationWarning: The 'labels' parameter of boxplot() has been renamed 'tick_labels' since Matplotlib 3.9; support for the old name will be dropped in 3.11.\n",
      "  box = plt.boxplot(data_list, vert=True, patch_artist=True, labels=model_labels)\n",
      "C:\\Users\\shafiullah.qureshi\\AppData\\Local\\Temp\\ipykernel_8924\\2600231866.py:89: MatplotlibDeprecationWarning: The 'labels' parameter of boxplot() has been renamed 'tick_labels' since Matplotlib 3.9; support for the old name will be dropped in 3.11.\n",
      "  box = plt.boxplot(data_list, vert=True, patch_artist=True, labels=model_labels)\n"
     ]
    },
    {
     "name": "stdout",
     "output_type": "stream",
     "text": [
      "Model: CatBoost - Median: 0.0002585327, IQR: 0.0002572837\n",
      "Model: LightGBM - Median: 0.0010264705, IQR: 0.0008949370\n",
      "Model: Random Forest - Median: 0.0002522868, IQR: 0.0002299371\n",
      "Model: GBM - Median: 0.0001226164, IQR: 0.0001576017\n",
      "Model: XGBoost - Median: 0.0002159449, IQR: 0.0003538090\n",
      "\n",
      "\u001b[1mR_SQ\u001b[0m\n",
      "Model: CatBoost - Median: 0.9847594920, IQR: 0.0236470639\n",
      "Model: LightGBM - Median: 0.8036488070, IQR: 0.2590038209\n",
      "Model: Random Forest - Median: 0.9869206955, IQR: 0.0254725875\n",
      "Model: GBM - Median: 0.9965981121, IQR: 0.0163149240\n",
      "Model: XGBoost - Median: 0.9898091199, IQR: 0.0536349543\n"
     ]
    },
    {
     "name": "stderr",
     "output_type": "stream",
     "text": [
      "C:\\Users\\shafiullah.qureshi\\AppData\\Local\\Temp\\ipykernel_8924\\2600231866.py:89: MatplotlibDeprecationWarning: The 'labels' parameter of boxplot() has been renamed 'tick_labels' since Matplotlib 3.9; support for the old name will be dropped in 3.11.\n",
      "  box = plt.boxplot(data_list, vert=True, patch_artist=True, labels=model_labels)\n",
      "C:\\Users\\shafiullah.qureshi\\AppData\\Local\\Temp\\ipykernel_8924\\2600231866.py:89: MatplotlibDeprecationWarning: The 'labels' parameter of boxplot() has been renamed 'tick_labels' since Matplotlib 3.9; support for the old name will be dropped in 3.11.\n",
      "  box = plt.boxplot(data_list, vert=True, patch_artist=True, labels=model_labels)\n"
     ]
    },
    {
     "name": "stdout",
     "output_type": "stream",
     "text": [
      "\n",
      "\u001b[1mHorizon: tau_9\u001b[0m\n",
      "\n",
      "\u001b[1mRMSE\u001b[0m\n",
      "Model: CatBoost - Median: 0.0004254394, IQR: 0.0004193544\n",
      "Model: LightGBM - Median: 0.0012589013, IQR: 0.0012391488\n",
      "Model: Random Forest - Median: 0.0004130207, IQR: 0.0004369404\n",
      "Model: GBM - Median: 0.0003580344, IQR: 0.0004458225\n",
      "Model: XGBoost - Median: 0.0003470628, IQR: 0.0007319115\n",
      "\n",
      "\u001b[1mMAE\u001b[0m\n",
      "Model: CatBoost - Median: 0.0002975885, IQR: 0.0003017501\n",
      "Model: LightGBM - Median: 0.0009683433, IQR: 0.0007884604\n",
      "Model: Random Forest - Median: 0.0002741140, IQR: 0.0002545458\n",
      "Model: GBM - Median: 0.0001719580, IQR: 0.0002332915\n",
      "Model: XGBoost - Median: 0.0002823804, IQR: 0.0003591419\n"
     ]
    },
    {
     "name": "stderr",
     "output_type": "stream",
     "text": [
      "C:\\Users\\shafiullah.qureshi\\AppData\\Local\\Temp\\ipykernel_8924\\2600231866.py:89: MatplotlibDeprecationWarning: The 'labels' parameter of boxplot() has been renamed 'tick_labels' since Matplotlib 3.9; support for the old name will be dropped in 3.11.\n",
      "  box = plt.boxplot(data_list, vert=True, patch_artist=True, labels=model_labels)\n",
      "C:\\Users\\shafiullah.qureshi\\AppData\\Local\\Temp\\ipykernel_8924\\2600231866.py:89: MatplotlibDeprecationWarning: The 'labels' parameter of boxplot() has been renamed 'tick_labels' since Matplotlib 3.9; support for the old name will be dropped in 3.11.\n",
      "  box = plt.boxplot(data_list, vert=True, patch_artist=True, labels=model_labels)\n"
     ]
    },
    {
     "name": "stdout",
     "output_type": "stream",
     "text": [
      "\n",
      "\u001b[1mMAD\u001b[0m\n",
      "Model: CatBoost - Median: 0.0002975885, IQR: 0.0003017501\n",
      "Model: LightGBM - Median: 0.0009683433, IQR: 0.0007884604\n",
      "Model: Random Forest - Median: 0.0002741140, IQR: 0.0002545458\n",
      "Model: GBM - Median: 0.0001719580, IQR: 0.0002332915\n",
      "Model: XGBoost - Median: 0.0002823804, IQR: 0.0003591419\n",
      "\n",
      "\u001b[1mR_SQ\u001b[0m\n",
      "Model: CatBoost - Median: 0.9796429489, IQR: 0.0375533892\n",
      "Model: LightGBM - Median: 0.7835192876, IQR: 0.2382786621\n",
      "Model: Random Forest - Median: 0.9794630423, IQR: 0.0439579232\n",
      "Model: GBM - Median: 0.9895149859, IQR: 0.0300460968\n",
      "Model: XGBoost - Median: 0.9822993221, IQR: 0.0658664890\n",
      "Combined summary CSV saved: graph_pdc_gt_off/combined_metrics_summary.csv\n"
     ]
    },
    {
     "name": "stderr",
     "output_type": "stream",
     "text": [
      "C:\\Users\\shafiullah.qureshi\\AppData\\Local\\Temp\\ipykernel_8924\\2600231866.py:89: MatplotlibDeprecationWarning: The 'labels' parameter of boxplot() has been renamed 'tick_labels' since Matplotlib 3.9; support for the old name will be dropped in 3.11.\n",
      "  box = plt.boxplot(data_list, vert=True, patch_artist=True, labels=model_labels)\n",
      "C:\\Users\\shafiullah.qureshi\\AppData\\Local\\Temp\\ipykernel_8924\\2600231866.py:89: MatplotlibDeprecationWarning: The 'labels' parameter of boxplot() has been renamed 'tick_labels' since Matplotlib 3.9; support for the old name will be dropped in 3.11.\n",
      "  box = plt.boxplot(data_list, vert=True, patch_artist=True, labels=model_labels)\n"
     ]
    }
   ],
   "source": [
    "## pdc get gt off\n",
    "\n",
    "\n",
    "import os\n",
    "import pandas as pd\n",
    "import matplotlib.pyplot as plt\n",
    "import seaborn as sns\n",
    "\n",
    "# Set a color palette for the boxplots\n",
    "\n",
    "custom_colors = {\n",
    "    'CatBoost': 'blue',\n",
    "    'LightGBM': 'green',\n",
    "    'Random Forest': 'orange',\n",
    "    'SVM': 'purple',\n",
    "    'XGBoost': 'pink'\n",
    "}\n",
    "\n",
    "# List of folder paths and their labels for different horizons\n",
    "horizons = ['tau_1', 'tau_3', 'tau_6', 'tau_9']\n",
    "\n",
    "# List of folder paths and their labels for different horizons\n",
    "folders_template = [\n",
    "    ('C:\\\\Users\\\\shafiullah.qureshi\\\\OneDrive - Government of Alberta\\\\Documents\\\\nowcast_gdp\\\\gdp_paper_updated\\\\OoS_metrics_Catboost_gt_off\\\\winsorized\\\\OoS_metrics_{}_winsorized.csv', 'CatBoost'),\n",
    "    ('C:\\\\Users\\\\shafiullah.qureshi\\\\OneDrive - Government of Alberta\\\\Documents\\\\nowcast_gdp\\\\gdp_paper_updated\\\\OoS_metrics_LightGBM_gt_off\\\\winsorized\\\\OoS_metrics_{}_winsorized.csv', 'LightGBM'),\n",
    "    ('C:\\\\Users\\\\shafiullah.qureshi\\\\OneDrive - Government of Alberta\\\\Documents\\\\nowcast_gdp\\\\gdp_paper_updated\\\\OoS_metrics_rf_gt_off\\\\winsorized\\\\OoS_metrics_{}_winsorized.csv', 'Random Forest'),\n",
    "    ('C:\\\\Users\\\\shafiullah.qureshi\\\\OneDrive - Government of Alberta\\\\Documents\\\\nowcast_gdp\\\\gdp_paper_updated\\\\OoS_metrics_GBM_off_gt\\\\winsorized\\\\OoS_metrics_{}_winsorized.csv', 'GBM'),\n",
    "    ('C:\\\\Users\\\\shafiullah.qureshi\\\\OneDrive - Government of Alberta\\\\Documents\\\\nowcast_gdp\\\\gdp_paper_updated\\\\OoS_metrics_xgboost_gt_off\\\\winsorized\\\\OoS_metrics_{}_winsorized.csv', 'XGBoost')\n",
    "]\n",
    "\n",
    "# Create a folder to save the graphs and combined CSV\n",
    "output_folder = 'graph_pdc_gt_off'\n",
    "os.makedirs(output_folder, exist_ok=True)\n",
    "\n",
    "# List of metrics to plot\n",
    "metrics = ['rmse', 'mae', 'mad', 'r_sq']\n",
    "\n",
    "# Mapping for nice Y-axis labels\n",
    "metric_labels = {\n",
    "    'rmse': 'RMSE',\n",
    "    'mae': 'MAE',\n",
    "    'mad': 'MAD',\n",
    "    'r_sq': 'R²'\n",
    "}\n",
    "\n",
    "# Initialize a DataFrame to store all combined metrics\n",
    "combined_summary_df = pd.DataFrame()\n",
    "\n",
    "# Iterate over each horizon and plot the metrics\n",
    "for horizon in horizons:\n",
    "    print(f\"\\n\\033[1mHorizon: {horizon}\\033[0m\")\n",
    "    for metric in metrics:\n",
    "        plt.figure(figsize=(14, 8))  # Updated size for better visibility\n",
    "        data_list = []\n",
    "        model_labels = []\n",
    "        metric_data_summary = []\n",
    "\n",
    "        print(f\"\\n\\033[1m{metric.upper()}\\033[0m\")\n",
    "        for folder_template, model_name in folders_template:\n",
    "            file_path = folder_template.format(horizon)\n",
    "            \n",
    "            # Load the CSV file\n",
    "            try:\n",
    "                data = pd.read_csv(file_path)\n",
    "                data = data.dropna(subset=['ssample_end_date'])\n",
    "                # Collect data for the current metric\n",
    "                data_list.append(data[metric])\n",
    "                model_labels.append(model_name)\n",
    "\n",
    "                # Calculate and print raw median and IQR\n",
    "                median = data[metric].median()\n",
    "                iqr = data[metric].quantile(0.75) - data[metric].quantile(0.25)\n",
    "                print(f\"Model: {model_name} - Median: {median:.10f}, IQR: {iqr:.10f}\")\n",
    "                \n",
    "                # Append to summary list\n",
    "                metric_data_summary.append({\n",
    "                    'Horizon': horizon,\n",
    "                    'Metric': metric,\n",
    "                    'Model': model_name,\n",
    "                    'Median': median,\n",
    "                    'IQR': iqr\n",
    "                })\n",
    "\n",
    "            except FileNotFoundError:\n",
    "                print(f\"File not found: {file_path}\")\n",
    "                continue\n",
    "\n",
    "        # Plot all models' data for the current metric with custom colors\n",
    "        box = plt.boxplot(data_list, vert=True, patch_artist=True, labels=model_labels)\n",
    "        for patch, model_name in zip(box['boxes'], model_labels):\n",
    "            patch.set_facecolor(custom_colors.get(model_name, 'grey'))\n",
    "\n",
    "        # Customize Y-axis for R-squared to show negative scale if applicable\n",
    "        if metric == 'r_sq':\n",
    "            plt.ylim(-1, 1)\n",
    "            plt.axhline(0, color='red', linestyle='--', linewidth=0.5)\n",
    "\n",
    "        # Enhance visibility of axis labels\n",
    "        plt.xlabel('Model', fontsize=14)\n",
    "        plt.ylabel(metric_labels.get(metric, metric), fontsize=14)\n",
    "        plt.xticks(fontsize=12)\n",
    "        plt.yticks(fontsize=12)\n",
    "        \n",
    "        # Save the figure without title\n",
    "        file_name = f'{output_folder}/{metric}_{horizon}.png'\n",
    "        plt.grid(True, linestyle='--', alpha=0.5)\n",
    "        plt.savefig(file_name, bbox_inches='tight')\n",
    "        plt.close()\n",
    "\n",
    "        # Append the metric data to the combined summary DataFrame\n",
    "        combined_summary_df = pd.concat([combined_summary_df, pd.DataFrame(metric_data_summary)], ignore_index=True)\n",
    "\n",
    "# Save the combined metrics data as a single CSV\n",
    "combined_csv_file_name = f'{output_folder}/combined_metrics_summary.csv'\n",
    "combined_summary_df.to_csv(combined_csv_file_name, index=False)\n",
    "print(f\"Combined summary CSV saved: {combined_csv_file_name}\")"
   ]
  },
  {
   "cell_type": "code",
   "execution_count": 49,
   "metadata": {},
   "outputs": [
    {
     "name": "stdout",
     "output_type": "stream",
     "text": [
      "\n",
      "\u001b[1mHorizon: tau_1\u001b[0m\n",
      "\n",
      "\u001b[1mRMSE\u001b[0m\n",
      "Model: CatBoost - Median: 0.0002163963, IQR: 0.0006530687\n",
      "Model: LightGBM - Median: 0.0017047845, IQR: 0.0025111478\n",
      "Model: Random Forest - Median: 0.0001119224, IQR: 0.0002378336\n",
      "Model: XGBoost - Median: 0.0017047845, IQR: 0.0025111479\n",
      "Model: SVM - Median: 0.0017796115, IQR: 0.0024152585\n",
      "\n",
      "\u001b[1mMAE\u001b[0m\n",
      "Model: CatBoost - Median: 0.0002163963, IQR: 0.0006530687\n",
      "Model: LightGBM - Median: 0.0017047845, IQR: 0.0025111478\n",
      "Model: Random Forest - Median: 0.0001119224, IQR: 0.0002378336\n",
      "Model: XGBoost - Median: 0.0017047845, IQR: 0.0025111479\n",
      "Model: SVM - Median: 0.0017796115, IQR: 0.0024152585\n"
     ]
    },
    {
     "name": "stderr",
     "output_type": "stream",
     "text": [
      "C:\\Users\\shafiullah.qureshi\\AppData\\Local\\Temp\\ipykernel_42860\\3677849512.py:89: MatplotlibDeprecationWarning: The 'labels' parameter of boxplot() has been renamed 'tick_labels' since Matplotlib 3.9; support for the old name will be dropped in 3.11.\n",
      "  box = plt.boxplot(data_list, vert=True, patch_artist=True, labels=model_labels)\n",
      "C:\\Users\\shafiullah.qureshi\\AppData\\Local\\Temp\\ipykernel_42860\\3677849512.py:89: MatplotlibDeprecationWarning: The 'labels' parameter of boxplot() has been renamed 'tick_labels' since Matplotlib 3.9; support for the old name will be dropped in 3.11.\n",
      "  box = plt.boxplot(data_list, vert=True, patch_artist=True, labels=model_labels)\n"
     ]
    },
    {
     "name": "stdout",
     "output_type": "stream",
     "text": [
      "\n",
      "\u001b[1mMAD\u001b[0m\n",
      "Model: CatBoost - Median: 0.0002163963, IQR: 0.0006530687\n",
      "Model: LightGBM - Median: 0.0017047845, IQR: 0.0025111478\n",
      "Model: Random Forest - Median: 0.0001119224, IQR: 0.0002378336\n",
      "Model: XGBoost - Median: 0.0017047845, IQR: 0.0025111479\n",
      "Model: SVM - Median: 0.0017796115, IQR: 0.0024152585\n",
      "\n",
      "\u001b[1mR_SQ\u001b[0m\n",
      "Model: CatBoost - Median: 0.9550925033, IQR: 0.2199308071\n",
      "Model: LightGBM - Median: -0.0000000005, IQR: 0.0000000174\n",
      "Model: Random Forest - Median: 0.9864417634, IQR: 0.0907996793\n",
      "Model: XGBoost - Median: -0.0000000023, IQR: 0.0000000513\n",
      "Model: SVM - Median: -0.0998770109, IQR: 1.0940517382\n"
     ]
    },
    {
     "name": "stderr",
     "output_type": "stream",
     "text": [
      "C:\\Users\\shafiullah.qureshi\\AppData\\Local\\Temp\\ipykernel_42860\\3677849512.py:89: MatplotlibDeprecationWarning: The 'labels' parameter of boxplot() has been renamed 'tick_labels' since Matplotlib 3.9; support for the old name will be dropped in 3.11.\n",
      "  box = plt.boxplot(data_list, vert=True, patch_artist=True, labels=model_labels)\n",
      "C:\\Users\\shafiullah.qureshi\\AppData\\Local\\Temp\\ipykernel_42860\\3677849512.py:89: MatplotlibDeprecationWarning: The 'labels' parameter of boxplot() has been renamed 'tick_labels' since Matplotlib 3.9; support for the old name will be dropped in 3.11.\n",
      "  box = plt.boxplot(data_list, vert=True, patch_artist=True, labels=model_labels)\n"
     ]
    },
    {
     "name": "stdout",
     "output_type": "stream",
     "text": [
      "\n",
      "\u001b[1mHorizon: tau_3\u001b[0m\n",
      "\n",
      "\u001b[1mRMSE\u001b[0m\n",
      "Model: CatBoost - Median: 0.0004805973, IQR: 0.0006801843\n",
      "Model: LightGBM - Median: 0.0023854827, IQR: 0.0015009848\n",
      "Model: Random Forest - Median: 0.0001887328, IQR: 0.0005473992\n",
      "Model: XGBoost - Median: 0.0023854827, IQR: 0.0015009848\n",
      "Model: SVM - Median: 0.0022257952, IQR: 0.0018389612\n",
      "\n",
      "\u001b[1mMAE\u001b[0m\n",
      "Model: CatBoost - Median: 0.0003873154, IQR: 0.0004801238\n",
      "Model: LightGBM - Median: 0.0018244846, IQR: 0.0014738961\n",
      "Model: Random Forest - Median: 0.0001531546, IQR: 0.0003384108\n",
      "Model: XGBoost - Median: 0.0018244846, IQR: 0.0014738961\n",
      "Model: SVM - Median: 0.0019755002, IQR: 0.0016475403\n"
     ]
    },
    {
     "name": "stderr",
     "output_type": "stream",
     "text": [
      "C:\\Users\\shafiullah.qureshi\\AppData\\Local\\Temp\\ipykernel_42860\\3677849512.py:89: MatplotlibDeprecationWarning: The 'labels' parameter of boxplot() has been renamed 'tick_labels' since Matplotlib 3.9; support for the old name will be dropped in 3.11.\n",
      "  box = plt.boxplot(data_list, vert=True, patch_artist=True, labels=model_labels)\n",
      "C:\\Users\\shafiullah.qureshi\\AppData\\Local\\Temp\\ipykernel_42860\\3677849512.py:89: MatplotlibDeprecationWarning: The 'labels' parameter of boxplot() has been renamed 'tick_labels' since Matplotlib 3.9; support for the old name will be dropped in 3.11.\n",
      "  box = plt.boxplot(data_list, vert=True, patch_artist=True, labels=model_labels)\n"
     ]
    },
    {
     "name": "stdout",
     "output_type": "stream",
     "text": [
      "\n",
      "\u001b[1mMAD\u001b[0m\n",
      "Model: CatBoost - Median: 0.0003873154, IQR: 0.0004801238\n",
      "Model: LightGBM - Median: 0.0018244846, IQR: 0.0014738961\n",
      "Model: Random Forest - Median: 0.0001531546, IQR: 0.0003384108\n",
      "Model: XGBoost - Median: 0.0018244846, IQR: 0.0014738961\n",
      "Model: SVM - Median: 0.0019755002, IQR: 0.0016475403\n",
      "\n",
      "\u001b[1mR_SQ\u001b[0m\n",
      "Model: CatBoost - Median: 0.9352122001, IQR: 0.1236330185\n",
      "Model: LightGBM - Median: -0.0000000001, IQR: 0.0000000038\n",
      "Model: Random Forest - Median: 0.9836757551, IQR: 0.0573714000\n",
      "Model: XGBoost - Median: -0.0000000003, IQR: 0.0000000119\n",
      "Model: SVM - Median: -0.0402155711, IQR: 0.3485541965\n"
     ]
    },
    {
     "name": "stderr",
     "output_type": "stream",
     "text": [
      "C:\\Users\\shafiullah.qureshi\\AppData\\Local\\Temp\\ipykernel_42860\\3677849512.py:89: MatplotlibDeprecationWarning: The 'labels' parameter of boxplot() has been renamed 'tick_labels' since Matplotlib 3.9; support for the old name will be dropped in 3.11.\n",
      "  box = plt.boxplot(data_list, vert=True, patch_artist=True, labels=model_labels)\n",
      "C:\\Users\\shafiullah.qureshi\\AppData\\Local\\Temp\\ipykernel_42860\\3677849512.py:89: MatplotlibDeprecationWarning: The 'labels' parameter of boxplot() has been renamed 'tick_labels' since Matplotlib 3.9; support for the old name will be dropped in 3.11.\n",
      "  box = plt.boxplot(data_list, vert=True, patch_artist=True, labels=model_labels)\n"
     ]
    },
    {
     "name": "stdout",
     "output_type": "stream",
     "text": [
      "\n",
      "\u001b[1mHorizon: tau_6\u001b[0m\n",
      "\n",
      "\u001b[1mRMSE\u001b[0m\n",
      "Model: CatBoost - Median: 0.0004527641, IQR: 0.0005610386\n",
      "Model: LightGBM - Median: 0.0022363838, IQR: 0.0009901457\n",
      "Model: Random Forest - Median: 0.0003554693, IQR: 0.0005007576\n",
      "Model: XGBoost - Median: 0.0022363838, IQR: 0.0009901456\n",
      "Model: SVM - Median: 0.0022835047, IQR: 0.0011994649\n",
      "\n",
      "\u001b[1mMAE\u001b[0m\n",
      "Model: CatBoost - Median: 0.0003169480, IQR: 0.0003536689\n",
      "Model: LightGBM - Median: 0.0017961029, IQR: 0.0010262858\n",
      "Model: Random Forest - Median: 0.0002491761, IQR: 0.0002782262\n",
      "Model: XGBoost - Median: 0.0017961029, IQR: 0.0010262858\n",
      "Model: SVM - Median: 0.0018603430, IQR: 0.0011582328\n"
     ]
    },
    {
     "name": "stderr",
     "output_type": "stream",
     "text": [
      "C:\\Users\\shafiullah.qureshi\\AppData\\Local\\Temp\\ipykernel_42860\\3677849512.py:89: MatplotlibDeprecationWarning: The 'labels' parameter of boxplot() has been renamed 'tick_labels' since Matplotlib 3.9; support for the old name will be dropped in 3.11.\n",
      "  box = plt.boxplot(data_list, vert=True, patch_artist=True, labels=model_labels)\n",
      "C:\\Users\\shafiullah.qureshi\\AppData\\Local\\Temp\\ipykernel_42860\\3677849512.py:89: MatplotlibDeprecationWarning: The 'labels' parameter of boxplot() has been renamed 'tick_labels' since Matplotlib 3.9; support for the old name will be dropped in 3.11.\n",
      "  box = plt.boxplot(data_list, vert=True, patch_artist=True, labels=model_labels)\n"
     ]
    },
    {
     "name": "stdout",
     "output_type": "stream",
     "text": [
      "\n",
      "\u001b[1mMAD\u001b[0m\n",
      "Model: CatBoost - Median: 0.0003169480, IQR: 0.0003536689\n",
      "Model: LightGBM - Median: 0.0017961029, IQR: 0.0010262858\n",
      "Model: Random Forest - Median: 0.0002491761, IQR: 0.0002782262\n",
      "Model: XGBoost - Median: 0.0017961029, IQR: 0.0010262858\n",
      "Model: SVM - Median: 0.0018603430, IQR: 0.0011582328\n",
      "\n",
      "\u001b[1mR_SQ\u001b[0m\n",
      "Model: CatBoost - Median: 0.9565789117, IQR: 0.1211928010\n",
      "Model: LightGBM - Median: -0.0000000003, IQR: 0.0000000033\n",
      "Model: Random Forest - Median: 0.9706890885, IQR: 0.0711394455\n",
      "Model: XGBoost - Median: -0.0000000004, IQR: 0.0000000080\n",
      "Model: SVM - Median: -0.0122632975, IQR: 0.2294317979\n"
     ]
    },
    {
     "name": "stderr",
     "output_type": "stream",
     "text": [
      "C:\\Users\\shafiullah.qureshi\\AppData\\Local\\Temp\\ipykernel_42860\\3677849512.py:89: MatplotlibDeprecationWarning: The 'labels' parameter of boxplot() has been renamed 'tick_labels' since Matplotlib 3.9; support for the old name will be dropped in 3.11.\n",
      "  box = plt.boxplot(data_list, vert=True, patch_artist=True, labels=model_labels)\n",
      "C:\\Users\\shafiullah.qureshi\\AppData\\Local\\Temp\\ipykernel_42860\\3677849512.py:89: MatplotlibDeprecationWarning: The 'labels' parameter of boxplot() has been renamed 'tick_labels' since Matplotlib 3.9; support for the old name will be dropped in 3.11.\n",
      "  box = plt.boxplot(data_list, vert=True, patch_artist=True, labels=model_labels)\n"
     ]
    },
    {
     "name": "stdout",
     "output_type": "stream",
     "text": [
      "\n",
      "\u001b[1mHorizon: tau_9\u001b[0m\n",
      "\n",
      "\u001b[1mRMSE\u001b[0m\n",
      "Model: CatBoost - Median: 0.0005711333, IQR: 0.0006793061\n",
      "Model: LightGBM - Median: 0.0021479063, IQR: 0.0009608083\n",
      "Model: Random Forest - Median: 0.0003000807, IQR: 0.0004501699\n",
      "Model: XGBoost - Median: 0.0021479063, IQR: 0.0009608083\n",
      "Model: SVM - Median: 0.0021582265, IQR: 0.0010754770\n",
      "\n",
      "\u001b[1mMAE\u001b[0m\n",
      "Model: CatBoost - Median: 0.0003984791, IQR: 0.0003476986\n",
      "Model: LightGBM - Median: 0.0017947353, IQR: 0.0007964495\n",
      "Model: Random Forest - Median: 0.0002343359, IQR: 0.0002265562\n",
      "Model: XGBoost - Median: 0.0017947353, IQR: 0.0007964495\n",
      "Model: SVM - Median: 0.0017929465, IQR: 0.0007819703\n"
     ]
    },
    {
     "name": "stderr",
     "output_type": "stream",
     "text": [
      "C:\\Users\\shafiullah.qureshi\\AppData\\Local\\Temp\\ipykernel_42860\\3677849512.py:89: MatplotlibDeprecationWarning: The 'labels' parameter of boxplot() has been renamed 'tick_labels' since Matplotlib 3.9; support for the old name will be dropped in 3.11.\n",
      "  box = plt.boxplot(data_list, vert=True, patch_artist=True, labels=model_labels)\n",
      "C:\\Users\\shafiullah.qureshi\\AppData\\Local\\Temp\\ipykernel_42860\\3677849512.py:89: MatplotlibDeprecationWarning: The 'labels' parameter of boxplot() has been renamed 'tick_labels' since Matplotlib 3.9; support for the old name will be dropped in 3.11.\n",
      "  box = plt.boxplot(data_list, vert=True, patch_artist=True, labels=model_labels)\n"
     ]
    },
    {
     "name": "stdout",
     "output_type": "stream",
     "text": [
      "\n",
      "\u001b[1mMAD\u001b[0m\n",
      "Model: CatBoost - Median: 0.0003984791, IQR: 0.0003476986\n",
      "Model: LightGBM - Median: 0.0017947353, IQR: 0.0007964495\n",
      "Model: Random Forest - Median: 0.0002343359, IQR: 0.0002265562\n",
      "Model: XGBoost - Median: 0.0017947353, IQR: 0.0007964495\n",
      "Model: SVM - Median: 0.0017929465, IQR: 0.0007819703\n",
      "\n",
      "\u001b[1mR_SQ\u001b[0m\n",
      "Model: CatBoost - Median: 0.9278229622, IQR: 0.0946278670\n",
      "Model: LightGBM - Median: -0.0000000004, IQR: 0.0000000032\n",
      "Model: Random Forest - Median: 0.9704085916, IQR: 0.0594904452\n",
      "Model: XGBoost - Median: -0.0000000002, IQR: 0.0000000069\n",
      "Model: SVM - Median: -0.0250489948, IQR: 0.1609963833\n"
     ]
    },
    {
     "name": "stderr",
     "output_type": "stream",
     "text": [
      "C:\\Users\\shafiullah.qureshi\\AppData\\Local\\Temp\\ipykernel_42860\\3677849512.py:89: MatplotlibDeprecationWarning: The 'labels' parameter of boxplot() has been renamed 'tick_labels' since Matplotlib 3.9; support for the old name will be dropped in 3.11.\n",
      "  box = plt.boxplot(data_list, vert=True, patch_artist=True, labels=model_labels)\n",
      "C:\\Users\\shafiullah.qureshi\\AppData\\Local\\Temp\\ipykernel_42860\\3677849512.py:89: MatplotlibDeprecationWarning: The 'labels' parameter of boxplot() has been renamed 'tick_labels' since Matplotlib 3.9; support for the old name will be dropped in 3.11.\n",
      "  box = plt.boxplot(data_list, vert=True, patch_artist=True, labels=model_labels)\n"
     ]
    },
    {
     "name": "stdout",
     "output_type": "stream",
     "text": [
      "Combined summary CSV saved: graph_h2o_off/combined_metrics_summary.csv\n"
     ]
    }
   ],
   "source": [
    "## h2o off\n",
    "\n",
    "\n",
    "\n",
    "import os\n",
    "import pandas as pd\n",
    "import matplotlib.pyplot as plt\n",
    "import seaborn as sns\n",
    "\n",
    "# Set a color palette for the boxplots\n",
    "\n",
    "custom_colors = {\n",
    "    'CatBoost': 'blue',\n",
    "    'LightGBM': 'green',\n",
    "    'Random Forest': 'orange',\n",
    "    'SVM': 'purple',\n",
    "    'XGBoost': 'pink'\n",
    "}\n",
    "\n",
    "# List of folder paths and their labels for different horizons\n",
    "horizons = ['tau_1', 'tau_3', 'tau_6', 'tau_9']\n",
    "\n",
    "folders_template = [\n",
    "    ('C:\\\\Users\\\\shafiullah.qureshi\\\\OneDrive - Government of Alberta\\\\Documents\\\\nowcast_gdp\\\\gdp_paper\\\\OoS_metrics_h2o_Catboost_off\\\\winsorized\\\\OoS_metrics_{}_winsorized.csv', 'CatBoost'),\n",
    "    ('C:\\\\Users\\\\shafiullah.qureshi\\\\OneDrive - Government of Alberta\\\\Documents\\\\nowcast_gdp\\\\gdp_paper\\\\OoS_metrics_h2o_LightGBM_off\\\\winsorized\\\\OoS_metrics_{}_winsorized.csv', 'LightGBM'),\n",
    "    ('C:\\\\Users\\\\shafiullah.qureshi\\\\OneDrive - Government of Alberta\\\\Documents\\\\nowcast_gdp\\\\gdp_paper\\\\OoS_metrics_h2o_RF_off\\\\winsorized\\\\OoS_metrics_{}_winsorized.csv', 'Random Forest'),\n",
    "    ('C:\\\\Users\\\\shafiullah.qureshi\\\\OneDrive - Government of Alberta\\\\Documents\\\\nowcast_gdp\\\\gdp_paper\\\\OoS_metrics_h2o_xgboost_off\\\\winsorized\\\\OoS_metrics_{}_winsorized.csv', 'XGBoost'),\n",
    "    ('C:\\\\Users\\\\shafiullah.qureshi\\\\OneDrive - Government of Alberta\\\\Documents\\\\nowcast_gdp\\\\gdp_paper\\\\OoS_metrics_SVM_h2o_off\\\\winsorized\\\\OoS_metrics_{}_winsorized.csv', 'SVM')\n",
    "]\n",
    "\n",
    "# Create a folder to save the graphs and combined CSV\n",
    "output_folder = 'graph_h2o_off'\n",
    "os.makedirs(output_folder, exist_ok=True)\n",
    "\n",
    "# List of metrics to plot\n",
    "metrics = ['rmse', 'mae', 'mad', 'r_sq']\n",
    "\n",
    "# Mapping for nice Y-axis labels\n",
    "metric_labels = {\n",
    "    'rmse': 'RMSE',\n",
    "    'mae': 'MAE',\n",
    "    'mad': 'MAD',\n",
    "    'r_sq': 'R²'\n",
    "}\n",
    "\n",
    "# Initialize a DataFrame to store all combined metrics\n",
    "combined_summary_df = pd.DataFrame()\n",
    "\n",
    "# Iterate over each horizon and plot the metrics\n",
    "for horizon in horizons:\n",
    "    print(f\"\\n\\033[1mHorizon: {horizon}\\033[0m\")\n",
    "    for metric in metrics:\n",
    "        plt.figure(figsize=(14, 8))  # Updated size for better visibility\n",
    "        data_list = []\n",
    "        model_labels = []\n",
    "        metric_data_summary = []\n",
    "\n",
    "        print(f\"\\n\\033[1m{metric.upper()}\\033[0m\")\n",
    "        for folder_template, model_name in folders_template:\n",
    "            file_path = folder_template.format(horizon)\n",
    "            \n",
    "            # Load the CSV file\n",
    "            try:\n",
    "                data = pd.read_csv(file_path)\n",
    "                data = data.dropna(subset=['ssample_end_date'])\n",
    "                # Collect data for the current metric\n",
    "                data_list.append(data[metric])\n",
    "                model_labels.append(model_name)\n",
    "\n",
    "                # Calculate and print raw median and IQR\n",
    "                median = data[metric].median()\n",
    "                iqr = data[metric].quantile(0.75) - data[metric].quantile(0.25)\n",
    "                print(f\"Model: {model_name} - Median: {median:.10f}, IQR: {iqr:.10f}\")\n",
    "                \n",
    "                # Append to summary list\n",
    "                metric_data_summary.append({\n",
    "                    'Horizon': horizon,\n",
    "                    'Metric': metric,\n",
    "                    'Model': model_name,\n",
    "                    'Median': median,\n",
    "                    'IQR': iqr\n",
    "                })\n",
    "\n",
    "            except FileNotFoundError:\n",
    "                print(f\"File not found: {file_path}\")\n",
    "                continue\n",
    "\n",
    "        # Plot all models' data for the current metric with custom colors\n",
    "        box = plt.boxplot(data_list, vert=True, patch_artist=True, labels=model_labels)\n",
    "        for patch, model_name in zip(box['boxes'], model_labels):\n",
    "            patch.set_facecolor(custom_colors.get(model_name, 'grey'))\n",
    "\n",
    "        # Customize Y-axis for R-squared to show negative scale if applicable\n",
    "        if metric == 'r_sq':\n",
    "            plt.ylim(-1, 1)\n",
    "            plt.axhline(0, color='red', linestyle='--', linewidth=0.5)\n",
    "\n",
    "        # Enhance visibility of axis labels\n",
    "        plt.xlabel('Model', fontsize=14)\n",
    "        plt.ylabel(metric_labels.get(metric, metric), fontsize=14)\n",
    "        plt.xticks(fontsize=12)\n",
    "        plt.yticks(fontsize=12)\n",
    "        \n",
    "        # Save the figure without title\n",
    "        file_name = f'{output_folder}/{metric}_{horizon}.png'\n",
    "        plt.grid(True, linestyle='--', alpha=0.5)\n",
    "        plt.savefig(file_name, bbox_inches='tight')\n",
    "        plt.close()\n",
    "\n",
    "        # Append the metric data to the combined summary DataFrame\n",
    "        combined_summary_df = pd.concat([combined_summary_df, pd.DataFrame(metric_data_summary)], ignore_index=True)\n",
    "\n",
    "# Save the combined metrics data as a single CSV\n",
    "combined_csv_file_name = f'{output_folder}/combined_metrics_summary.csv'\n",
    "combined_summary_df.to_csv(combined_csv_file_name, index=False)\n",
    "print(f\"Combined summary CSV saved: {combined_csv_file_name}\")"
   ]
  },
  {
   "cell_type": "code",
   "execution_count": 50,
   "metadata": {},
   "outputs": [
    {
     "name": "stdout",
     "output_type": "stream",
     "text": [
      "\n",
      "\u001b[1mHorizon: tau_1\u001b[0m\n",
      "\n",
      "\u001b[1mRMSE\u001b[0m\n",
      "Model: CatBoost - Median: 0.0122688671, IQR: 0.0145927643\n",
      "Model: LightGBM - Median: 0.0135249305, IQR: 0.0266794615\n",
      "Model: Random Forest - Median: 0.0048753382, IQR: 0.0060850849\n",
      "Model: XGBoost - Median: 0.0101576352, IQR: 0.0152131020\n",
      "Model: SVM - Median: 0.0038097226, IQR: 0.0057012649\n",
      "\n",
      "\u001b[1mMAE\u001b[0m\n",
      "Model: CatBoost - Median: 0.0122688671, IQR: 0.0145927643\n",
      "Model: LightGBM - Median: 0.0135249305, IQR: 0.0266794615\n",
      "Model: Random Forest - Median: 0.0048753382, IQR: 0.0060850849\n",
      "Model: XGBoost - Median: 0.0101576352, IQR: 0.0152131020\n",
      "Model: SVM - Median: 0.0038097226, IQR: 0.0057012649\n"
     ]
    },
    {
     "name": "stderr",
     "output_type": "stream",
     "text": [
      "C:\\Users\\shafiullah.qureshi\\AppData\\Local\\Temp\\ipykernel_42860\\3887296104.py:85: MatplotlibDeprecationWarning: The 'labels' parameter of boxplot() has been renamed 'tick_labels' since Matplotlib 3.9; support for the old name will be dropped in 3.11.\n",
      "  box = plt.boxplot(data_list, vert=True, patch_artist=True, labels=model_labels)\n",
      "C:\\Users\\shafiullah.qureshi\\AppData\\Local\\Temp\\ipykernel_42860\\3887296104.py:85: MatplotlibDeprecationWarning: The 'labels' parameter of boxplot() has been renamed 'tick_labels' since Matplotlib 3.9; support for the old name will be dropped in 3.11.\n",
      "  box = plt.boxplot(data_list, vert=True, patch_artist=True, labels=model_labels)\n"
     ]
    },
    {
     "name": "stdout",
     "output_type": "stream",
     "text": [
      "\n",
      "\u001b[1mMAD\u001b[0m\n",
      "Model: CatBoost - Median: 0.0122688671, IQR: 0.0145927643\n",
      "Model: LightGBM - Median: 0.0135249305, IQR: 0.0266794615\n",
      "Model: Random Forest - Median: 0.0048753382, IQR: 0.0060850849\n",
      "Model: XGBoost - Median: 0.0101576352, IQR: 0.0152131020\n",
      "Model: SVM - Median: 0.0038097226, IQR: 0.0057012649\n",
      "\n",
      "\u001b[1mR_SQ\u001b[0m\n",
      "Model: CatBoost - Median: 0.9686662553, IQR: 0.1217938045\n",
      "Model: LightGBM - Median: 0.9463695607, IQR: 0.2102384177\n",
      "Model: Random Forest - Median: 0.9920781399, IQR: 0.0357289643\n",
      "Model: XGBoost - Median: 0.9764248224, IQR: 0.2235009902\n",
      "Model: SVM - Median: 0.9968524320, IQR: 0.0177518398\n"
     ]
    },
    {
     "name": "stderr",
     "output_type": "stream",
     "text": [
      "C:\\Users\\shafiullah.qureshi\\AppData\\Local\\Temp\\ipykernel_42860\\3887296104.py:85: MatplotlibDeprecationWarning: The 'labels' parameter of boxplot() has been renamed 'tick_labels' since Matplotlib 3.9; support for the old name will be dropped in 3.11.\n",
      "  box = plt.boxplot(data_list, vert=True, patch_artist=True, labels=model_labels)\n",
      "C:\\Users\\shafiullah.qureshi\\AppData\\Local\\Temp\\ipykernel_42860\\3887296104.py:85: MatplotlibDeprecationWarning: The 'labels' parameter of boxplot() has been renamed 'tick_labels' since Matplotlib 3.9; support for the old name will be dropped in 3.11.\n",
      "  box = plt.boxplot(data_list, vert=True, patch_artist=True, labels=model_labels)\n"
     ]
    },
    {
     "name": "stdout",
     "output_type": "stream",
     "text": [
      "\n",
      "\u001b[1mHorizon: tau_3\u001b[0m\n",
      "\n",
      "\u001b[1mRMSE\u001b[0m\n",
      "Model: CatBoost - Median: 0.0150585932, IQR: 0.0095831257\n",
      "Model: LightGBM - Median: 0.0244726493, IQR: 0.0284131706\n",
      "Model: Random Forest - Median: 0.0073650462, IQR: 0.0092439668\n",
      "Model: XGBoost - Median: 0.0149177307, IQR: 0.0337069215\n",
      "Model: SVM - Median: 0.0041595662, IQR: 0.0029259541\n",
      "\n",
      "\u001b[1mMAE\u001b[0m\n",
      "Model: CatBoost - Median: 0.0132521444, IQR: 0.0081268100\n",
      "Model: LightGBM - Median: 0.0206267635, IQR: 0.0189848898\n",
      "Model: Random Forest - Median: 0.0062864358, IQR: 0.0069371362\n",
      "Model: XGBoost - Median: 0.0128052324, IQR: 0.0221857387\n",
      "Model: SVM - Median: 0.0036505767, IQR: 0.0026188645\n"
     ]
    },
    {
     "name": "stderr",
     "output_type": "stream",
     "text": [
      "C:\\Users\\shafiullah.qureshi\\AppData\\Local\\Temp\\ipykernel_42860\\3887296104.py:85: MatplotlibDeprecationWarning: The 'labels' parameter of boxplot() has been renamed 'tick_labels' since Matplotlib 3.9; support for the old name will be dropped in 3.11.\n",
      "  box = plt.boxplot(data_list, vert=True, patch_artist=True, labels=model_labels)\n",
      "C:\\Users\\shafiullah.qureshi\\AppData\\Local\\Temp\\ipykernel_42860\\3887296104.py:85: MatplotlibDeprecationWarning: The 'labels' parameter of boxplot() has been renamed 'tick_labels' since Matplotlib 3.9; support for the old name will be dropped in 3.11.\n",
      "  box = plt.boxplot(data_list, vert=True, patch_artist=True, labels=model_labels)\n"
     ]
    },
    {
     "name": "stdout",
     "output_type": "stream",
     "text": [
      "\n",
      "\u001b[1mMAD\u001b[0m\n",
      "Model: CatBoost - Median: 0.0132521444, IQR: 0.0081268100\n",
      "Model: LightGBM - Median: 0.0206267635, IQR: 0.0189848898\n",
      "Model: Random Forest - Median: 0.0062864358, IQR: 0.0069371362\n",
      "Model: XGBoost - Median: 0.0128052324, IQR: 0.0221857387\n",
      "Model: SVM - Median: 0.0036505767, IQR: 0.0026188645\n",
      "\n",
      "\u001b[1mR_SQ\u001b[0m\n",
      "Model: CatBoost - Median: 0.9602286989, IQR: 0.0589471867\n",
      "Model: LightGBM - Median: 0.9169810540, IQR: 0.1970507330\n",
      "Model: Random Forest - Median: 0.9893578380, IQR: 0.0301689406\n",
      "Model: XGBoost - Median: 0.9472425685, IQR: 0.1659546486\n",
      "Model: SVM - Median: 0.9973651439, IQR: 0.0056855218\n"
     ]
    },
    {
     "name": "stderr",
     "output_type": "stream",
     "text": [
      "C:\\Users\\shafiullah.qureshi\\AppData\\Local\\Temp\\ipykernel_42860\\3887296104.py:85: MatplotlibDeprecationWarning: The 'labels' parameter of boxplot() has been renamed 'tick_labels' since Matplotlib 3.9; support for the old name will be dropped in 3.11.\n",
      "  box = plt.boxplot(data_list, vert=True, patch_artist=True, labels=model_labels)\n",
      "C:\\Users\\shafiullah.qureshi\\AppData\\Local\\Temp\\ipykernel_42860\\3887296104.py:85: MatplotlibDeprecationWarning: The 'labels' parameter of boxplot() has been renamed 'tick_labels' since Matplotlib 3.9; support for the old name will be dropped in 3.11.\n",
      "  box = plt.boxplot(data_list, vert=True, patch_artist=True, labels=model_labels)\n"
     ]
    },
    {
     "name": "stdout",
     "output_type": "stream",
     "text": [
      "\n",
      "\u001b[1mHorizon: tau_6\u001b[0m\n",
      "\n",
      "\u001b[1mRMSE\u001b[0m\n",
      "Model: CatBoost - Median: 0.0212155948, IQR: 0.0124328693\n",
      "Model: LightGBM - Median: 0.0312105923, IQR: 0.0231289445\n",
      "Model: Random Forest - Median: 0.0103317328, IQR: 0.0107700633\n",
      "Model: XGBoost - Median: 0.0250328977, IQR: 0.0382561411\n",
      "Model: SVM - Median: 0.0050564652, IQR: 0.0034262737\n"
     ]
    },
    {
     "name": "stderr",
     "output_type": "stream",
     "text": [
      "C:\\Users\\shafiullah.qureshi\\AppData\\Local\\Temp\\ipykernel_42860\\3887296104.py:85: MatplotlibDeprecationWarning: The 'labels' parameter of boxplot() has been renamed 'tick_labels' since Matplotlib 3.9; support for the old name will be dropped in 3.11.\n",
      "  box = plt.boxplot(data_list, vert=True, patch_artist=True, labels=model_labels)\n",
      "C:\\Users\\shafiullah.qureshi\\AppData\\Local\\Temp\\ipykernel_42860\\3887296104.py:85: MatplotlibDeprecationWarning: The 'labels' parameter of boxplot() has been renamed 'tick_labels' since Matplotlib 3.9; support for the old name will be dropped in 3.11.\n",
      "  box = plt.boxplot(data_list, vert=True, patch_artist=True, labels=model_labels)\n"
     ]
    },
    {
     "name": "stdout",
     "output_type": "stream",
     "text": [
      "\n",
      "\u001b[1mMAE\u001b[0m\n",
      "Model: CatBoost - Median: 0.0176546293, IQR: 0.0092588146\n",
      "Model: LightGBM - Median: 0.0233351412, IQR: 0.0169897531\n",
      "Model: Random Forest - Median: 0.0083868553, IQR: 0.0062820991\n",
      "Model: XGBoost - Median: 0.0177355381, IQR: 0.0190511157\n",
      "Model: SVM - Median: 0.0041484795, IQR: 0.0024189012\n",
      "\n",
      "\u001b[1mMAD\u001b[0m\n",
      "Model: CatBoost - Median: 0.0176546293, IQR: 0.0092588146\n",
      "Model: LightGBM - Median: 0.0233351412, IQR: 0.0169897531\n",
      "Model: Random Forest - Median: 0.0083868553, IQR: 0.0062820991\n",
      "Model: XGBoost - Median: 0.0177355381, IQR: 0.0190511157\n",
      "Model: SVM - Median: 0.0041484795, IQR: 0.0024189012\n",
      "\n",
      "\u001b[1mR_SQ\u001b[0m\n",
      "Model: CatBoost - Median: 0.9399380923, IQR: 0.0455725379\n",
      "Model: LightGBM - Median: 0.8515688618, IQR: 0.1929166347\n",
      "Model: Random Forest - Median: 0.9826300254, IQR: 0.0305104267\n",
      "Model: XGBoost - Median: 0.9244719066, IQR: 0.1756423674\n",
      "Model: SVM - Median: 0.9968150701, IQR: 0.0039003700\n"
     ]
    },
    {
     "name": "stderr",
     "output_type": "stream",
     "text": [
      "C:\\Users\\shafiullah.qureshi\\AppData\\Local\\Temp\\ipykernel_42860\\3887296104.py:85: MatplotlibDeprecationWarning: The 'labels' parameter of boxplot() has been renamed 'tick_labels' since Matplotlib 3.9; support for the old name will be dropped in 3.11.\n",
      "  box = plt.boxplot(data_list, vert=True, patch_artist=True, labels=model_labels)\n",
      "C:\\Users\\shafiullah.qureshi\\AppData\\Local\\Temp\\ipykernel_42860\\3887296104.py:85: MatplotlibDeprecationWarning: The 'labels' parameter of boxplot() has been renamed 'tick_labels' since Matplotlib 3.9; support for the old name will be dropped in 3.11.\n",
      "  box = plt.boxplot(data_list, vert=True, patch_artist=True, labels=model_labels)\n"
     ]
    },
    {
     "name": "stdout",
     "output_type": "stream",
     "text": [
      "\n",
      "\u001b[1mHorizon: tau_9\u001b[0m\n",
      "\n",
      "\u001b[1mRMSE\u001b[0m\n",
      "Model: CatBoost - Median: 0.0197797452, IQR: 0.0159178872\n",
      "Model: LightGBM - Median: 0.0373225533, IQR: 0.0325345540\n",
      "Model: Random Forest - Median: 0.0105483531, IQR: 0.0175478572\n",
      "Model: XGBoost - Median: 0.0317045768, IQR: 0.0494648643\n",
      "Model: SVM - Median: 0.0058665107, IQR: 0.0043822506\n"
     ]
    },
    {
     "name": "stderr",
     "output_type": "stream",
     "text": [
      "C:\\Users\\shafiullah.qureshi\\AppData\\Local\\Temp\\ipykernel_42860\\3887296104.py:85: MatplotlibDeprecationWarning: The 'labels' parameter of boxplot() has been renamed 'tick_labels' since Matplotlib 3.9; support for the old name will be dropped in 3.11.\n",
      "  box = plt.boxplot(data_list, vert=True, patch_artist=True, labels=model_labels)\n",
      "C:\\Users\\shafiullah.qureshi\\AppData\\Local\\Temp\\ipykernel_42860\\3887296104.py:85: MatplotlibDeprecationWarning: The 'labels' parameter of boxplot() has been renamed 'tick_labels' since Matplotlib 3.9; support for the old name will be dropped in 3.11.\n",
      "  box = plt.boxplot(data_list, vert=True, patch_artist=True, labels=model_labels)\n"
     ]
    },
    {
     "name": "stdout",
     "output_type": "stream",
     "text": [
      "\n",
      "\u001b[1mMAE\u001b[0m\n",
      "Model: CatBoost - Median: 0.0165508546, IQR: 0.0107897478\n",
      "Model: LightGBM - Median: 0.0261997072, IQR: 0.0193824354\n",
      "Model: Random Forest - Median: 0.0083187166, IQR: 0.0092945226\n",
      "Model: XGBoost - Median: 0.0215233437, IQR: 0.0273655388\n",
      "Model: SVM - Median: 0.0046163047, IQR: 0.0029680366\n",
      "\n",
      "\u001b[1mMAD\u001b[0m\n",
      "Model: CatBoost - Median: 0.0165508546, IQR: 0.0107897478\n",
      "Model: LightGBM - Median: 0.0261997072, IQR: 0.0193824354\n",
      "Model: Random Forest - Median: 0.0083187166, IQR: 0.0092945226\n",
      "Model: XGBoost - Median: 0.0215233437, IQR: 0.0273655388\n",
      "Model: SVM - Median: 0.0046163047, IQR: 0.0029680366\n",
      "\n",
      "\u001b[1mR_SQ\u001b[0m\n",
      "Model: CatBoost - Median: 0.9545939870, IQR: 0.0774850209\n",
      "Model: LightGBM - Median: 0.8455987751, IQR: 0.1839993864\n",
      "Model: Random Forest - Median: 0.9821534416, IQR: 0.0303561013\n",
      "Model: XGBoost - Median: 0.8704339925, IQR: 0.2638120735\n",
      "Model: SVM - Median: 0.9965967972, IQR: 0.0041814899\n"
     ]
    },
    {
     "name": "stderr",
     "output_type": "stream",
     "text": [
      "C:\\Users\\shafiullah.qureshi\\AppData\\Local\\Temp\\ipykernel_42860\\3887296104.py:85: MatplotlibDeprecationWarning: The 'labels' parameter of boxplot() has been renamed 'tick_labels' since Matplotlib 3.9; support for the old name will be dropped in 3.11.\n",
      "  box = plt.boxplot(data_list, vert=True, patch_artist=True, labels=model_labels)\n",
      "C:\\Users\\shafiullah.qureshi\\AppData\\Local\\Temp\\ipykernel_42860\\3887296104.py:85: MatplotlibDeprecationWarning: The 'labels' parameter of boxplot() has been renamed 'tick_labels' since Matplotlib 3.9; support for the old name will be dropped in 3.11.\n",
      "  box = plt.boxplot(data_list, vert=True, patch_artist=True, labels=model_labels)\n"
     ]
    },
    {
     "name": "stdout",
     "output_type": "stream",
     "text": [
      "Combined summary CSV saved: graph_h2o_gt/combined_metrics_summary.csv\n"
     ]
    }
   ],
   "source": [
    "## h2o gt\n",
    "\n",
    "import os\n",
    "import pandas as pd\n",
    "import matplotlib.pyplot as plt\n",
    "import seaborn as sns\n",
    "\n",
    "# Set a color palette for the boxplots\n",
    "custom_colors = {\n",
    "    'CatBoost': 'blue',\n",
    "    'LightGBM': 'green',\n",
    "    'Random Forest': 'orange',\n",
    "    'SVM': 'purple',\n",
    "    'XGBoost': 'pink'\n",
    "}\n",
    "\n",
    "folders_template = [\n",
    "    ('C:\\\\Users\\\\shafiullah.qureshi\\\\OneDrive - Government of Alberta\\\\Documents\\\\nowcast_gdp\\\\gdp_paper\\\\OoS_metrics_h2o_Catboost_gt\\\\winsorized\\\\OoS_metrics_{}_winsorized.csv', 'CatBoost'),\n",
    "    ('C:\\\\Users\\\\shafiullah.qureshi\\\\OneDrive - Government of Alberta\\\\Documents\\\\nowcast_gdp\\\\gdp_paper\\\\OoS_metrics_h2o_LightGBM_gt\\\\winsorized\\\\OoS_metrics_{}_winsorized.csv', 'LightGBM'),\n",
    "    ('C:\\\\Users\\\\shafiullah.qureshi\\\\OneDrive - Government of Alberta\\\\Documents\\\\nowcast_gdp\\\\gdp_paper\\\\OoS_metrics_h2o_RF_gt\\\\winsorized\\\\OoS_metrics_{}_winsorized.csv', 'Random Forest'),\n",
    "    ('C:\\\\Users\\\\shafiullah.qureshi\\\\OneDrive - Government of Alberta\\\\Documents\\\\nowcast_gdp\\\\gdp_paper\\\\OoS_metrics_h2o_xgboost_gt\\\\winsorized\\\\OoS_metrics_{}_winsorized.csv', 'XGBoost'),\n",
    "    ('C:\\\\Users\\\\shafiullah.qureshi\\\\OneDrive - Government of Alberta\\\\Documents\\\\nowcast_gdp\\\\gdp_paper\\\\OoS_metrics_SVM_h2o_gt\\\\winsorized\\\\OoS_metrics_{}_winsorized.csv', 'SVM')\n",
    "]\n",
    "\n",
    "# List of folder paths and their labels for different horizons\n",
    "horizons = ['tau_1', 'tau_3', 'tau_6', 'tau_9']\n",
    "\n",
    "output_folder = 'graph_h2o_gt'\n",
    "os.makedirs(output_folder, exist_ok=True)\n",
    "\n",
    "# List of metrics to plot\n",
    "metrics = ['rmse', 'mae', 'mad', 'r_sq']\n",
    "\n",
    "# Mapping for nice Y-axis labels\n",
    "metric_labels = {\n",
    "    'rmse': 'RMSE',\n",
    "    'mae': 'MAE',\n",
    "    'mad': 'MAD',\n",
    "    'r_sq': 'R²'\n",
    "}\n",
    "\n",
    "# Initialize a DataFrame to store all combined metrics\n",
    "combined_summary_df = pd.DataFrame()\n",
    "\n",
    "# Iterate over each horizon and plot the metrics\n",
    "for horizon in horizons:\n",
    "    print(f\"\\n\\033[1mHorizon: {horizon}\\033[0m\")\n",
    "    for metric in metrics:\n",
    "        plt.figure(figsize=(14, 8))  # Updated size for better visibility\n",
    "        data_list = []\n",
    "        model_labels = []\n",
    "        metric_data_summary = []\n",
    "\n",
    "        print(f\"\\n\\033[1m{metric.upper()}\\033[0m\")\n",
    "        for folder_template, model_name in folders_template:\n",
    "            file_path = folder_template.format(horizon)\n",
    "            \n",
    "            # Load the CSV file\n",
    "            try:\n",
    "                data = pd.read_csv(file_path)\n",
    "                data = data.dropna(subset=['ssample_end_date'])\n",
    "                # Collect data for the current metric\n",
    "                data_list.append(data[metric])\n",
    "                model_labels.append(model_name)\n",
    "\n",
    "                # Calculate and print raw median and IQR\n",
    "                median = data[metric].median()\n",
    "                iqr = data[metric].quantile(0.75) - data[metric].quantile(0.25)\n",
    "                print(f\"Model: {model_name} - Median: {median:.10f}, IQR: {iqr:.10f}\")\n",
    "                \n",
    "                # Append to summary list\n",
    "                metric_data_summary.append({\n",
    "                    'Horizon': horizon,\n",
    "                    'Metric': metric,\n",
    "                    'Model': model_name,\n",
    "                    'Median': median,\n",
    "                    'IQR': iqr\n",
    "                })\n",
    "\n",
    "            except FileNotFoundError:\n",
    "                print(f\"File not found: {file_path}\")\n",
    "                continue\n",
    "\n",
    "        # Plot all models' data for the current metric with custom colors\n",
    "        box = plt.boxplot(data_list, vert=True, patch_artist=True, labels=model_labels)\n",
    "        for patch, model_name in zip(box['boxes'], model_labels):\n",
    "            patch.set_facecolor(custom_colors.get(model_name, 'grey'))\n",
    "\n",
    "        # Customize Y-axis for R-squared to show negative scale if applicable\n",
    "        if metric == 'r_sq':\n",
    "            plt.ylim(-1, 1)\n",
    "            plt.axhline(0, color='red', linestyle='--', linewidth=0.5)\n",
    "\n",
    "        # Enhance visibility of axis labels\n",
    "        plt.xlabel('Model', fontsize=14)\n",
    "        plt.ylabel(metric_labels.get(metric, metric), fontsize=14)\n",
    "        plt.xticks(fontsize=12)\n",
    "        plt.yticks(fontsize=12)\n",
    "        \n",
    "        # Save the figure without title\n",
    "        file_name = f'{output_folder}/{metric}_{horizon}.png'\n",
    "        plt.grid(True, linestyle='--', alpha=0.5)\n",
    "        plt.savefig(file_name, bbox_inches='tight')\n",
    "        plt.close()\n",
    "\n",
    "        # Append the metric data to the combined summary DataFrame\n",
    "        combined_summary_df = pd.concat([combined_summary_df, pd.DataFrame(metric_data_summary)], ignore_index=True)\n",
    "\n",
    "# Save the combined metrics data as a single CSV\n",
    "combined_csv_file_name = f'{output_folder}/combined_metrics_summary.csv'\n",
    "combined_summary_df.to_csv(combined_csv_file_name, index=False)\n",
    "print(f\"Combined summary CSV saved: {combined_csv_file_name}\")"
   ]
  },
  {
   "cell_type": "code",
   "execution_count": 51,
   "metadata": {},
   "outputs": [
    {
     "name": "stdout",
     "output_type": "stream",
     "text": [
      "\n",
      "\u001b[1mHorizon: tau_1\u001b[0m\n",
      "\n",
      "\u001b[1mRMSE\u001b[0m\n",
      "Model: CatBoost - Median: 0.0088925497, IQR: 0.0113498252\n",
      "Model: LightGBM - Median: 0.0060521865, IQR: 0.0225504168\n",
      "Model: Random Forest - Median: 0.0031501516, IQR: 0.0055914786\n",
      "Model: XGBoost - Median: 0.0144043167, IQR: 0.0434433995\n",
      "Model: SVM - Median: 0.0033706017, IQR: 0.0042222050\n"
     ]
    },
    {
     "name": "stderr",
     "output_type": "stream",
     "text": [
      "C:\\Users\\shafiullah.qureshi\\AppData\\Local\\Temp\\ipykernel_42860\\4098016196.py:86: MatplotlibDeprecationWarning: The 'labels' parameter of boxplot() has been renamed 'tick_labels' since Matplotlib 3.9; support for the old name will be dropped in 3.11.\n",
      "  box = plt.boxplot(data_list, vert=True, patch_artist=True, labels=model_labels)\n",
      "C:\\Users\\shafiullah.qureshi\\AppData\\Local\\Temp\\ipykernel_42860\\4098016196.py:86: MatplotlibDeprecationWarning: The 'labels' parameter of boxplot() has been renamed 'tick_labels' since Matplotlib 3.9; support for the old name will be dropped in 3.11.\n",
      "  box = plt.boxplot(data_list, vert=True, patch_artist=True, labels=model_labels)\n"
     ]
    },
    {
     "name": "stdout",
     "output_type": "stream",
     "text": [
      "\n",
      "\u001b[1mMAE\u001b[0m\n",
      "Model: CatBoost - Median: 0.0088925497, IQR: 0.0113498252\n",
      "Model: LightGBM - Median: 0.0060521865, IQR: 0.0225504168\n",
      "Model: Random Forest - Median: 0.0031501516, IQR: 0.0055914786\n",
      "Model: XGBoost - Median: 0.0144043167, IQR: 0.0434433995\n",
      "Model: SVM - Median: 0.0033706017, IQR: 0.0042222050\n",
      "\n",
      "\u001b[1mMAD\u001b[0m\n",
      "Model: CatBoost - Median: 0.0088925497, IQR: 0.0113498252\n",
      "Model: LightGBM - Median: 0.0060521865, IQR: 0.0225504168\n",
      "Model: Random Forest - Median: 0.0031501516, IQR: 0.0055914786\n",
      "Model: XGBoost - Median: 0.0144043167, IQR: 0.0434433995\n",
      "Model: SVM - Median: 0.0033706017, IQR: 0.0042222050\n"
     ]
    },
    {
     "name": "stderr",
     "output_type": "stream",
     "text": [
      "C:\\Users\\shafiullah.qureshi\\AppData\\Local\\Temp\\ipykernel_42860\\4098016196.py:86: MatplotlibDeprecationWarning: The 'labels' parameter of boxplot() has been renamed 'tick_labels' since Matplotlib 3.9; support for the old name will be dropped in 3.11.\n",
      "  box = plt.boxplot(data_list, vert=True, patch_artist=True, labels=model_labels)\n"
     ]
    },
    {
     "name": "stdout",
     "output_type": "stream",
     "text": [
      "\n",
      "\u001b[1mR_SQ\u001b[0m\n",
      "Model: CatBoost - Median: 0.9611859646, IQR: 0.1200672870\n",
      "Model: LightGBM - Median: 0.9675393982, IQR: 0.1780547964\n",
      "Model: Random Forest - Median: 0.9938414508, IQR: 0.0509772632\n",
      "Model: XGBoost - Median: 0.8764364740, IQR: 0.3425277906\n",
      "Model: SVM - Median: 0.9955108210, IQR: 0.0087297856\n"
     ]
    },
    {
     "name": "stderr",
     "output_type": "stream",
     "text": [
      "C:\\Users\\shafiullah.qureshi\\AppData\\Local\\Temp\\ipykernel_42860\\4098016196.py:86: MatplotlibDeprecationWarning: The 'labels' parameter of boxplot() has been renamed 'tick_labels' since Matplotlib 3.9; support for the old name will be dropped in 3.11.\n",
      "  box = plt.boxplot(data_list, vert=True, patch_artist=True, labels=model_labels)\n"
     ]
    },
    {
     "name": "stdout",
     "output_type": "stream",
     "text": [
      "\n",
      "\u001b[1mHorizon: tau_3\u001b[0m\n",
      "\n",
      "\u001b[1mRMSE\u001b[0m\n",
      "Model: CatBoost - Median: 0.0122588129, IQR: 0.0110253560\n",
      "Model: LightGBM - Median: 0.0160137081, IQR: 0.0197887390\n",
      "Model: Random Forest - Median: 0.0058642542, IQR: 0.0070846438\n",
      "Model: XGBoost - Median: 0.0311160851, IQR: 0.0373863491\n",
      "Model: SVM - Median: 0.0040285790, IQR: 0.0027916600\n"
     ]
    },
    {
     "name": "stderr",
     "output_type": "stream",
     "text": [
      "C:\\Users\\shafiullah.qureshi\\AppData\\Local\\Temp\\ipykernel_42860\\4098016196.py:86: MatplotlibDeprecationWarning: The 'labels' parameter of boxplot() has been renamed 'tick_labels' since Matplotlib 3.9; support for the old name will be dropped in 3.11.\n",
      "  box = plt.boxplot(data_list, vert=True, patch_artist=True, labels=model_labels)\n"
     ]
    },
    {
     "name": "stdout",
     "output_type": "stream",
     "text": [
      "\n",
      "\u001b[1mMAE\u001b[0m\n",
      "Model: CatBoost - Median: 0.0106864513, IQR: 0.0096203101\n",
      "Model: LightGBM - Median: 0.0126031483, IQR: 0.0153227219\n",
      "Model: Random Forest - Median: 0.0051978502, IQR: 0.0065162192\n",
      "Model: XGBoost - Median: 0.0228463437, IQR: 0.0316546662\n",
      "Model: SVM - Median: 0.0036674540, IQR: 0.0023779908\n",
      "\n",
      "\u001b[1mMAD\u001b[0m\n",
      "Model: CatBoost - Median: 0.0106864513, IQR: 0.0096203101\n",
      "Model: LightGBM - Median: 0.0126031483, IQR: 0.0153227219\n"
     ]
    },
    {
     "name": "stderr",
     "output_type": "stream",
     "text": [
      "C:\\Users\\shafiullah.qureshi\\AppData\\Local\\Temp\\ipykernel_42860\\4098016196.py:86: MatplotlibDeprecationWarning: The 'labels' parameter of boxplot() has been renamed 'tick_labels' since Matplotlib 3.9; support for the old name will be dropped in 3.11.\n",
      "  box = plt.boxplot(data_list, vert=True, patch_artist=True, labels=model_labels)\n"
     ]
    },
    {
     "name": "stdout",
     "output_type": "stream",
     "text": [
      "Model: Random Forest - Median: 0.0051978502, IQR: 0.0065162192\n",
      "Model: XGBoost - Median: 0.0228463437, IQR: 0.0316546662\n",
      "Model: SVM - Median: 0.0036674540, IQR: 0.0023779908\n",
      "\n",
      "\u001b[1mR_SQ\u001b[0m\n",
      "Model: CatBoost - Median: 0.9545465657, IQR: 0.0712364915\n",
      "Model: LightGBM - Median: 0.9180141839, IQR: 0.1670884197\n"
     ]
    },
    {
     "name": "stderr",
     "output_type": "stream",
     "text": [
      "C:\\Users\\shafiullah.qureshi\\AppData\\Local\\Temp\\ipykernel_42860\\4098016196.py:86: MatplotlibDeprecationWarning: The 'labels' parameter of boxplot() has been renamed 'tick_labels' since Matplotlib 3.9; support for the old name will be dropped in 3.11.\n",
      "  box = plt.boxplot(data_list, vert=True, patch_artist=True, labels=model_labels)\n"
     ]
    },
    {
     "name": "stdout",
     "output_type": "stream",
     "text": [
      "Model: Random Forest - Median: 0.9902717504, IQR: 0.0425845707\n",
      "Model: XGBoost - Median: 0.7422597210, IQR: 0.3145597780\n",
      "Model: SVM - Median: 0.9946831467, IQR: 0.0073532113\n",
      "\n",
      "\u001b[1mHorizon: tau_6\u001b[0m\n",
      "\n",
      "\u001b[1mRMSE\u001b[0m\n",
      "Model: CatBoost - Median: 0.0157782945, IQR: 0.0217249108\n"
     ]
    },
    {
     "name": "stderr",
     "output_type": "stream",
     "text": [
      "C:\\Users\\shafiullah.qureshi\\AppData\\Local\\Temp\\ipykernel_42860\\4098016196.py:86: MatplotlibDeprecationWarning: The 'labels' parameter of boxplot() has been renamed 'tick_labels' since Matplotlib 3.9; support for the old name will be dropped in 3.11.\n",
      "  box = plt.boxplot(data_list, vert=True, patch_artist=True, labels=model_labels)\n"
     ]
    },
    {
     "name": "stdout",
     "output_type": "stream",
     "text": [
      "Model: LightGBM - Median: 0.0202675201, IQR: 0.0517946731\n",
      "Model: Random Forest - Median: 0.0058685419, IQR: 0.0127334475\n",
      "Model: XGBoost - Median: 0.0395430785, IQR: 0.0583704097\n",
      "Model: SVM - Median: 0.0053836459, IQR: 0.0050920318\n"
     ]
    },
    {
     "name": "stderr",
     "output_type": "stream",
     "text": [
      "C:\\Users\\shafiullah.qureshi\\AppData\\Local\\Temp\\ipykernel_42860\\4098016196.py:86: MatplotlibDeprecationWarning: The 'labels' parameter of boxplot() has been renamed 'tick_labels' since Matplotlib 3.9; support for the old name will be dropped in 3.11.\n",
      "  box = plt.boxplot(data_list, vert=True, patch_artist=True, labels=model_labels)\n"
     ]
    },
    {
     "name": "stdout",
     "output_type": "stream",
     "text": [
      "\n",
      "\u001b[1mMAE\u001b[0m\n",
      "Model: CatBoost - Median: 0.0127531578, IQR: 0.0148498816\n",
      "Model: LightGBM - Median: 0.0144715257, IQR: 0.0252776512\n",
      "Model: Random Forest - Median: 0.0050573462, IQR: 0.0060160338\n",
      "Model: XGBoost - Median: 0.0292567887, IQR: 0.0381900182\n",
      "Model: SVM - Median: 0.0045695699, IQR: 0.0040338104\n",
      "\n",
      "\u001b[1mMAD\u001b[0m\n",
      "Model: CatBoost - Median: 0.0127531578, IQR: 0.0148498816\n",
      "Model: LightGBM - Median: 0.0144715257, IQR: 0.0252776512\n",
      "Model: Random Forest - Median: 0.0050573462, IQR: 0.0060160338\n"
     ]
    },
    {
     "name": "stderr",
     "output_type": "stream",
     "text": [
      "C:\\Users\\shafiullah.qureshi\\AppData\\Local\\Temp\\ipykernel_42860\\4098016196.py:86: MatplotlibDeprecationWarning: The 'labels' parameter of boxplot() has been renamed 'tick_labels' since Matplotlib 3.9; support for the old name will be dropped in 3.11.\n",
      "  box = plt.boxplot(data_list, vert=True, patch_artist=True, labels=model_labels)\n",
      "C:\\Users\\shafiullah.qureshi\\AppData\\Local\\Temp\\ipykernel_42860\\4098016196.py:86: MatplotlibDeprecationWarning: The 'labels' parameter of boxplot() has been renamed 'tick_labels' since Matplotlib 3.9; support for the old name will be dropped in 3.11.\n",
      "  box = plt.boxplot(data_list, vert=True, patch_artist=True, labels=model_labels)\n"
     ]
    },
    {
     "name": "stdout",
     "output_type": "stream",
     "text": [
      "Model: XGBoost - Median: 0.0292567887, IQR: 0.0381900182\n",
      "Model: SVM - Median: 0.0045695699, IQR: 0.0040338104\n",
      "\n",
      "\u001b[1mR_SQ\u001b[0m\n",
      "Model: CatBoost - Median: 0.9424807094, IQR: 0.1273535369\n",
      "Model: LightGBM - Median: 0.8897304376, IQR: 0.2479954534\n",
      "Model: Random Forest - Median: 0.9901679668, IQR: 0.0489146458\n",
      "Model: XGBoost - Median: 0.6541421526, IQR: 0.3521069510\n",
      "Model: SVM - Median: 0.9948505918, IQR: 0.0072909984\n"
     ]
    },
    {
     "name": "stderr",
     "output_type": "stream",
     "text": [
      "C:\\Users\\shafiullah.qureshi\\AppData\\Local\\Temp\\ipykernel_42860\\4098016196.py:86: MatplotlibDeprecationWarning: The 'labels' parameter of boxplot() has been renamed 'tick_labels' since Matplotlib 3.9; support for the old name will be dropped in 3.11.\n",
      "  box = plt.boxplot(data_list, vert=True, patch_artist=True, labels=model_labels)\n"
     ]
    },
    {
     "name": "stdout",
     "output_type": "stream",
     "text": [
      "\n",
      "\u001b[1mHorizon: tau_9\u001b[0m\n",
      "\n",
      "\u001b[1mRMSE\u001b[0m\n",
      "Model: CatBoost - Median: 0.0130452181, IQR: 0.0168897641\n",
      "Model: LightGBM - Median: 0.0238778986, IQR: 0.0470038673\n",
      "Model: Random Forest - Median: 0.0072679865, IQR: 0.0322968604\n",
      "Model: XGBoost - Median: 0.0448481004, IQR: 0.0550542641\n",
      "Model: SVM - Median: 0.0045959877, IQR: 0.0043383152\n"
     ]
    },
    {
     "name": "stderr",
     "output_type": "stream",
     "text": [
      "C:\\Users\\shafiullah.qureshi\\AppData\\Local\\Temp\\ipykernel_42860\\4098016196.py:86: MatplotlibDeprecationWarning: The 'labels' parameter of boxplot() has been renamed 'tick_labels' since Matplotlib 3.9; support for the old name will be dropped in 3.11.\n",
      "  box = plt.boxplot(data_list, vert=True, patch_artist=True, labels=model_labels)\n",
      "C:\\Users\\shafiullah.qureshi\\AppData\\Local\\Temp\\ipykernel_42860\\4098016196.py:86: MatplotlibDeprecationWarning: The 'labels' parameter of boxplot() has been renamed 'tick_labels' since Matplotlib 3.9; support for the old name will be dropped in 3.11.\n",
      "  box = plt.boxplot(data_list, vert=True, patch_artist=True, labels=model_labels)\n"
     ]
    },
    {
     "name": "stdout",
     "output_type": "stream",
     "text": [
      "\n",
      "\u001b[1mMAE\u001b[0m\n",
      "Model: CatBoost - Median: 0.0098088268, IQR: 0.0121500626\n",
      "Model: LightGBM - Median: 0.0167602984, IQR: 0.0277331385\n",
      "Model: Random Forest - Median: 0.0058122672, IQR: 0.0143564929\n",
      "Model: XGBoost - Median: 0.0338730515, IQR: 0.0339033780\n",
      "Model: SVM - Median: 0.0038875207, IQR: 0.0029231033\n",
      "\n",
      "\u001b[1mMAD\u001b[0m\n",
      "Model: CatBoost - Median: 0.0098088268, IQR: 0.0121500626\n",
      "Model: LightGBM - Median: 0.0167602984, IQR: 0.0277331385\n",
      "Model: Random Forest - Median: 0.0058122672, IQR: 0.0143564929\n",
      "Model: XGBoost - Median: 0.0338730515, IQR: 0.0339033780\n",
      "Model: SVM - Median: 0.0038875207, IQR: 0.0029231033\n",
      "\n",
      "\u001b[1mR_SQ\u001b[0m\n",
      "Model: CatBoost - Median: 0.9640526555, IQR: 0.0676756497\n",
      "Model: LightGBM - Median: 0.8606386259, IQR: 0.2481256191\n",
      "Model: Random Forest - Median: 0.9864670220, IQR: 0.1187697062\n",
      "Model: XGBoost - Median: 0.4953649883, IQR: 0.3644357248\n"
     ]
    },
    {
     "name": "stderr",
     "output_type": "stream",
     "text": [
      "C:\\Users\\shafiullah.qureshi\\AppData\\Local\\Temp\\ipykernel_42860\\4098016196.py:86: MatplotlibDeprecationWarning: The 'labels' parameter of boxplot() has been renamed 'tick_labels' since Matplotlib 3.9; support for the old name will be dropped in 3.11.\n",
      "  box = plt.boxplot(data_list, vert=True, patch_artist=True, labels=model_labels)\n"
     ]
    },
    {
     "name": "stdout",
     "output_type": "stream",
     "text": [
      "Model: SVM - Median: 0.9948268075, IQR: 0.0058272198\n",
      "Combined summary CSV saved: graph_h2o_gt_off/combined_metrics_summary.csv\n"
     ]
    },
    {
     "name": "stderr",
     "output_type": "stream",
     "text": [
      "C:\\Users\\shafiullah.qureshi\\AppData\\Local\\Temp\\ipykernel_42860\\4098016196.py:86: MatplotlibDeprecationWarning: The 'labels' parameter of boxplot() has been renamed 'tick_labels' since Matplotlib 3.9; support for the old name will be dropped in 3.11.\n",
      "  box = plt.boxplot(data_list, vert=True, patch_artist=True, labels=model_labels)\n"
     ]
    }
   ],
   "source": [
    "## h2o gt off\n",
    "\n",
    "\n",
    "import os\n",
    "import pandas as pd\n",
    "import matplotlib.pyplot as plt\n",
    "import seaborn as sns\n",
    "\n",
    "# Set a color palette for the boxplots\n",
    "custom_colors = {\n",
    "    'CatBoost': 'blue',\n",
    "    'LightGBM': 'green',\n",
    "    'Random Forest': 'orange',\n",
    "    'SVM': 'purple',\n",
    "    'XGBoost': 'pink'\n",
    "}\n",
    "\n",
    "folders_template = [\n",
    "    ('C:\\\\Users\\\\shafiullah.qureshi\\\\OneDrive - Government of Alberta\\\\Documents\\\\nowcast_gdp\\\\gdp_paper\\\\OoS_metrics_h2o_Catboost_gt_off\\\\winsorized\\\\OoS_metrics_{}_winsorized.csv', 'CatBoost'),\n",
    "    ('C:\\\\Users\\\\shafiullah.qureshi\\\\OneDrive - Government of Alberta\\\\Documents\\\\nowcast_gdp\\\\gdp_paper\\\\OoS_metrics_h2o_LightGBM_gt_off\\\\winsorized\\\\OoS_metrics_{}_winsorized.csv', 'LightGBM'),\n",
    "    ('C:\\\\Users\\\\shafiullah.qureshi\\\\OneDrive - Government of Alberta\\\\Documents\\\\nowcast_gdp\\\\gdp_paper\\\\OoS_metrics_h2o_RF_gt_off\\\\winsorized\\\\OoS_metrics_{}_winsorized.csv', 'Random Forest'),\n",
    "    ('C:\\\\Users\\\\shafiullah.qureshi\\\\OneDrive - Government of Alberta\\\\Documents\\\\nowcast_gdp\\\\gdp_paper\\\\OoS_metrics_h2o_xgboost_gt_off\\\\winsorized\\\\OoS_metrics_{}_winsorized.csv', 'XGBoost'),\n",
    "    ('C:\\\\Users\\\\shafiullah.qureshi\\\\OneDrive - Government of Alberta\\\\Documents\\\\nowcast_gdp\\\\gdp_paper\\\\OoS_metrics_SVM_h2o_gt_off\\\\winsorized\\\\OoS_metrics_{}_winsorized.csv', 'SVM')\n",
    "]\n",
    "\n",
    "# List of folder paths and their labels for different horizons\n",
    "horizons = ['tau_1', 'tau_3', 'tau_6', 'tau_9']\n",
    "\n",
    "output_folder = 'graph_h2o_gt_off'\n",
    "os.makedirs(output_folder, exist_ok=True)\n",
    "\n",
    "# List of metrics to plot\n",
    "metrics = ['rmse', 'mae', 'mad', 'r_sq']\n",
    "\n",
    "# Mapping for nice Y-axis labels\n",
    "metric_labels = {\n",
    "    'rmse': 'RMSE',\n",
    "    'mae': 'MAE',\n",
    "    'mad': 'MAD',\n",
    "    'r_sq': 'R²'\n",
    "}\n",
    "\n",
    "# Initialize a DataFrame to store all combined metrics\n",
    "combined_summary_df = pd.DataFrame()\n",
    "\n",
    "# Iterate over each horizon and plot the metrics\n",
    "for horizon in horizons:\n",
    "    print(f\"\\n\\033[1mHorizon: {horizon}\\033[0m\")\n",
    "    for metric in metrics:\n",
    "        plt.figure(figsize=(14, 8))  # Updated size for better visibility\n",
    "        data_list = []\n",
    "        model_labels = []\n",
    "        metric_data_summary = []\n",
    "\n",
    "        print(f\"\\n\\033[1m{metric.upper()}\\033[0m\")\n",
    "        for folder_template, model_name in folders_template:\n",
    "            file_path = folder_template.format(horizon)\n",
    "            \n",
    "            # Load the CSV file\n",
    "            try:\n",
    "                data = pd.read_csv(file_path)\n",
    "                data = data.dropna(subset=['ssample_end_date'])\n",
    "                # Collect data for the current metric\n",
    "                data_list.append(data[metric])\n",
    "                model_labels.append(model_name)\n",
    "\n",
    "                # Calculate and print raw median and IQR\n",
    "                median = data[metric].median()\n",
    "                iqr = data[metric].quantile(0.75) - data[metric].quantile(0.25)\n",
    "                print(f\"Model: {model_name} - Median: {median:.10f}, IQR: {iqr:.10f}\")\n",
    "                \n",
    "                # Append to summary list\n",
    "                metric_data_summary.append({\n",
    "                    'Horizon': horizon,\n",
    "                    'Metric': metric,\n",
    "                    'Model': model_name,\n",
    "                    'Median': median,\n",
    "                    'IQR': iqr\n",
    "                })\n",
    "\n",
    "            except FileNotFoundError:\n",
    "                print(f\"File not found: {file_path}\")\n",
    "                continue\n",
    "\n",
    "        # Plot all models' data for the current metric with custom colors\n",
    "        box = plt.boxplot(data_list, vert=True, patch_artist=True, labels=model_labels)\n",
    "        for patch, model_name in zip(box['boxes'], model_labels):\n",
    "            patch.set_facecolor(custom_colors.get(model_name, 'grey'))\n",
    "\n",
    "        # Customize Y-axis for R-squared to show negative scale if applicable\n",
    "        if metric == 'r_sq':\n",
    "            plt.ylim(-1, 1)\n",
    "            plt.axhline(0, color='red', linestyle='--', linewidth=0.5)\n",
    "\n",
    "        # Enhance visibility of axis labels\n",
    "        plt.xlabel('Model', fontsize=14)\n",
    "        plt.ylabel(metric_labels.get(metric, metric), fontsize=14)\n",
    "        plt.xticks(fontsize=12)\n",
    "        plt.yticks(fontsize=12)\n",
    "        \n",
    "        # Save the figure without title\n",
    "        file_name = f'{output_folder}/{metric}_{horizon}.png'\n",
    "        plt.grid(True, linestyle='--', alpha=0.5)\n",
    "        plt.savefig(file_name, bbox_inches='tight')\n",
    "        plt.close()\n",
    "\n",
    "        # Append the metric data to the combined summary DataFrame\n",
    "        combined_summary_df = pd.concat([combined_summary_df, pd.DataFrame(metric_data_summary)], ignore_index=True)\n",
    "\n",
    "# Save the combined metrics data as a single CSV\n",
    "combined_csv_file_name = f'{output_folder}/combined_metrics_summary.csv'\n",
    "combined_summary_df.to_csv(combined_csv_file_name, index=False)\n",
    "print(f\"Combined summary CSV saved: {combined_csv_file_name}\")\n"
   ]
  }
 ],
 "metadata": {
  "kernelspec": {
   "display_name": "Langchain",
   "language": "python",
   "name": "python3"
  },
  "language_info": {
   "codemirror_mode": {
    "name": "ipython",
    "version": 3
   },
   "file_extension": ".py",
   "mimetype": "text/x-python",
   "name": "python",
   "nbconvert_exporter": "python",
   "pygments_lexer": "ipython3",
   "version": "3.10.14"
  },
  "orig_nbformat": 4
 },
 "nbformat": 4,
 "nbformat_minor": 2
}
